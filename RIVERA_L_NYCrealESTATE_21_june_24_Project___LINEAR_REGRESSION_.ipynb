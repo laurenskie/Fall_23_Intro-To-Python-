{
  "nbformat": 4,
  "nbformat_minor": 0,
  "metadata": {
    "colab": {
      "provenance": [],
      "collapsed_sections": [
        "ZSBjGiLtkL8Z",
        "SYOM7cJ_kiY1",
        "OZNxHMuSkiON",
        "umeaYS-SkiGU",
        "OTaEVKXAkh-B",
        "HvFrMzIGmMOl",
        "nNu-6-3emMH5",
        "4k8nJyFemMBY",
        "E9xy8hetm9wG",
        "CCJo3OYWm9oQ",
        "Dmo0wF-vnXzD",
        "RYSfWcCcnXsb"
      ],
      "include_colab_link": true
    },
    "kernelspec": {
      "name": "python3",
      "display_name": "Python 3"
    },
    "language_info": {
      "name": "python"
    }
  },
  "cells": [
    {
      "cell_type": "markdown",
      "metadata": {
        "id": "view-in-github",
        "colab_type": "text"
      },
      "source": [
        "<a href=\"https://colab.research.google.com/github/laurenskie/Fall_23_Intro-To-Python-/blob/main/RIVERA_L_NYCrealESTATE_21_june_24_Project___LINEAR_REGRESSION_.ipynb\" target=\"_parent\"><img src=\"https://colab.research.google.com/assets/colab-badge.svg\" alt=\"Open In Colab\"/></a>"
      ]
    },
    {
      "cell_type": "markdown",
      "metadata": {
        "id": "ZSBjGiLtkL8Z"
      },
      "source": [
        "#Task 1: Define the Problem"
      ]
    },
    {
      "cell_type": "code",
      "metadata": {
        "id": "SRffAEZMkikd"
      },
      "source": [],
      "execution_count": 15,
      "outputs": []
    },
    {
      "cell_type": "markdown",
      "metadata": {
        "id": "SYOM7cJ_kiY1"
      },
      "source": [
        "#Task 2a: Install the Needed Libraries"
      ]
    },
    {
      "cell_type": "code",
      "metadata": {
        "id": "ft8kSvTUkiUd"
      },
      "source": [],
      "execution_count": 15,
      "outputs": []
    },
    {
      "cell_type": "markdown",
      "metadata": {
        "id": "OZNxHMuSkiON"
      },
      "source": [
        "#Task 2b: Import the Needed Libraries"
      ]
    },
    {
      "cell_type": "code",
      "metadata": {
        "id": "HPsfw4s7kiKk"
      },
      "source": [
        "import pandas as pd\n",
        "import numpy as np\n",
        "import matplotlib.pyplot as plt\n",
        "import seaborn as sns\n",
        "import pickle\n",
        "import joblib\n",
        "sns.set()\n",
        "\n",
        "from sklearn.model_selection import train_test_split\n",
        "from sklearn.linear_model import LinearRegression\n",
        "from sklearn.tree import DecisionTreeRegressor\n",
        "from sklearn.ensemble import RandomForestRegressor\n",
        "from sklearn.preprocessing import LabelEncoder"
      ],
      "execution_count": 16,
      "outputs": []
    },
    {
      "cell_type": "markdown",
      "metadata": {
        "id": "umeaYS-SkiGU"
      },
      "source": [
        "#Task 3: Load the Data"
      ]
    },
    {
      "cell_type": "code",
      "metadata": {
        "id": "loYU2Pg3kiCS"
      },
      "source": [
        "data = pd.read_csv('https://raw.githubusercontent.com/glopez21/ML-Data/main/nyc-rolling-sales.csv')"
      ],
      "execution_count": 17,
      "outputs": []
    },
    {
      "cell_type": "markdown",
      "metadata": {
        "id": "OTaEVKXAkh-B"
      },
      "source": [
        "#Task 4: Perform Data Exploratory Analysis (EDA)"
      ]
    },
    {
      "cell_type": "markdown",
      "metadata": {
        "id": "2FyPB8fMkh6U"
      },
      "source": [
        "##Show the data"
      ]
    },
    {
      "cell_type": "markdown",
      "metadata": {
        "id": "yOaCGYX5khxz"
      },
      "source": [
        "##Get Data Info"
      ]
    },
    {
      "cell_type": "code",
      "source": [],
      "metadata": {
        "id": "vAyGN_pI3C4n"
      },
      "execution_count": 17,
      "outputs": []
    },
    {
      "cell_type": "code",
      "metadata": {
        "id": "x9efqRclkh14",
        "colab": {
          "base_uri": "https://localhost:8080/"
        },
        "outputId": "2c73ecba-fba5-4ed3-de61-c3aeadfedf09"
      },
      "source": [
        "print( data.head())"
      ],
      "execution_count": 18,
      "outputs": [
        {
          "output_type": "stream",
          "name": "stdout",
          "text": [
            "   Unnamed: 0  BOROUGH   NEIGHBORHOOD  \\\n",
            "0           4        1  ALPHABET CITY   \n",
            "1           5        1  ALPHABET CITY   \n",
            "2           6        1  ALPHABET CITY   \n",
            "3           7        1  ALPHABET CITY   \n",
            "4           8        1  ALPHABET CITY   \n",
            "\n",
            "                       BUILDING CLASS CATEGORY TAX CLASS AT PRESENT  BLOCK  \\\n",
            "0  07 RENTALS - WALKUP APARTMENTS                                2A    392   \n",
            "1  07 RENTALS - WALKUP APARTMENTS                                 2    399   \n",
            "2  07 RENTALS - WALKUP APARTMENTS                                 2    399   \n",
            "3  07 RENTALS - WALKUP APARTMENTS                                2B    402   \n",
            "4  07 RENTALS - WALKUP APARTMENTS                                2A    404   \n",
            "\n",
            "   LOT EASE-MENT BUILDING CLASS AT PRESENT                 ADDRESS  ...  \\\n",
            "0    6                                  C2            153 AVENUE B  ...   \n",
            "1   26                                  C7   234 EAST 4TH   STREET  ...   \n",
            "2   39                                  C7   197 EAST 3RD   STREET  ...   \n",
            "3   21                                  C4     154 EAST 7TH STREET  ...   \n",
            "4   55                                  C2  301 EAST 10TH   STREET  ...   \n",
            "\n",
            "  RESIDENTIAL UNITS  COMMERCIAL UNITS  TOTAL UNITS  LAND SQUARE FEET  \\\n",
            "0                 5                 0            5              1633   \n",
            "1                28                 3           31              4616   \n",
            "2                16                 1           17              2212   \n",
            "3                10                 0           10              2272   \n",
            "4                 6                 0            6              2369   \n",
            "\n",
            "   GROSS SQUARE FEET YEAR BUILT TAX CLASS AT TIME OF SALE  \\\n",
            "0               6440       1900                         2   \n",
            "1              18690       1900                         2   \n",
            "2               7803       1900                         2   \n",
            "3               6794       1913                         2   \n",
            "4               4615       1900                         2   \n",
            "\n",
            "   BUILDING CLASS AT TIME OF SALE  SALE PRICE            SALE DATE  \n",
            "0                              C2     6625000  2017-07-19 00:00:00  \n",
            "1                              C7         -    2016-12-14 00:00:00  \n",
            "2                              C7         -    2016-12-09 00:00:00  \n",
            "3                              C4     3936272  2016-09-23 00:00:00  \n",
            "4                              C2     8000000  2016-11-17 00:00:00  \n",
            "\n",
            "[5 rows x 22 columns]\n"
          ]
        }
      ]
    },
    {
      "cell_type": "code",
      "source": [
        "print(data.shape)  # To see the number of rows and columns\n",
        "#Downsample the Dataset:"
      ],
      "metadata": {
        "id": "LhPpZyCn0mgE",
        "colab": {
          "base_uri": "https://localhost:8080/"
        },
        "outputId": "293639a5-7a16-4c29-b6f4-a1bc4950b44c"
      },
      "execution_count": 19,
      "outputs": [
        {
          "output_type": "stream",
          "name": "stdout",
          "text": [
            "(84548, 22)\n"
          ]
        }
      ]
    },
    {
      "cell_type": "markdown",
      "source": [
        "This data set is too large.  It has been making COLAB crash, I need to cut some data."
      ],
      "metadata": {
        "id": "Me6ViAQzBPyE"
      }
    },
    {
      "cell_type": "code",
      "source": [
        "# Specify the number of rows to keep\n",
        "sample_size = 10000\n",
        "data_downsampled = data.sample(n=sample_size, random_state=42)\n"
      ],
      "metadata": {
        "id": "psxG0hFxBXqP"
      },
      "execution_count": 21,
      "outputs": []
    },
    {
      "cell_type": "code",
      "source": [
        "# Check the dimensions of the dataset (rows, columns)\n",
        "print(\"Dimensions of the dataset:\", data_downsampled.shape)\n"
      ],
      "metadata": {
        "colab": {
          "base_uri": "https://localhost:8080/"
        },
        "id": "igOJWlGfp4FP",
        "outputId": "4ac9ea95-6080-40b0-9ecd-f38094eb35ea"
      },
      "execution_count": 22,
      "outputs": [
        {
          "output_type": "stream",
          "name": "stdout",
          "text": [
            "Dimensions of the dataset: (10000, 22)\n"
          ]
        }
      ]
    },
    {
      "cell_type": "code",
      "source": [
        "#Check the names of the columns\n",
        "data_downsampled.columns"
      ],
      "metadata": {
        "id": "XMK921tX09iD",
        "colab": {
          "base_uri": "https://localhost:8080/"
        },
        "outputId": "2fb21d9d-063d-49d0-9a51-f49a181fb8d9"
      },
      "execution_count": 23,
      "outputs": [
        {
          "output_type": "execute_result",
          "data": {
            "text/plain": [
              "Index(['Unnamed: 0', 'BOROUGH', 'NEIGHBORHOOD', 'BUILDING CLASS CATEGORY',\n",
              "       'TAX CLASS AT PRESENT', 'BLOCK', 'LOT', 'EASE-MENT',\n",
              "       'BUILDING CLASS AT PRESENT', 'ADDRESS', 'APARTMENT NUMBER', 'ZIP CODE',\n",
              "       'RESIDENTIAL UNITS', 'COMMERCIAL UNITS', 'TOTAL UNITS',\n",
              "       'LAND SQUARE FEET', 'GROSS SQUARE FEET', 'YEAR BUILT',\n",
              "       'TAX CLASS AT TIME OF SALE', 'BUILDING CLASS AT TIME OF SALE',\n",
              "       'SALE PRICE', 'SALE DATE'],\n",
              "      dtype='object')"
            ]
          },
          "metadata": {},
          "execution_count": 23
        }
      ]
    },
    {
      "cell_type": "code",
      "metadata": {
        "id": "YbjJUPR4khtR",
        "colab": {
          "base_uri": "https://localhost:8080/"
        },
        "outputId": "80d253cc-b2d8-41d1-b23c-b1cf0630c7db"
      },
      "source": [
        "#check the data types; remember ML likes numbers (ints and floats)\n",
        "#I will need to change some objects, strings and categories to ints and floats\n",
        "#What columns can I drop that will not affect price of real estate as much?\n",
        "data_downsampled.info()"
      ],
      "execution_count": 24,
      "outputs": [
        {
          "output_type": "stream",
          "name": "stdout",
          "text": [
            "<class 'pandas.core.frame.DataFrame'>\n",
            "Index: 10000 entries, 69520 to 39656\n",
            "Data columns (total 22 columns):\n",
            " #   Column                          Non-Null Count  Dtype \n",
            "---  ------                          --------------  ----- \n",
            " 0   Unnamed: 0                      10000 non-null  int64 \n",
            " 1   BOROUGH                         10000 non-null  int64 \n",
            " 2   NEIGHBORHOOD                    10000 non-null  object\n",
            " 3   BUILDING CLASS CATEGORY         10000 non-null  object\n",
            " 4   TAX CLASS AT PRESENT            10000 non-null  object\n",
            " 5   BLOCK                           10000 non-null  int64 \n",
            " 6   LOT                             10000 non-null  int64 \n",
            " 7   EASE-MENT                       10000 non-null  object\n",
            " 8   BUILDING CLASS AT PRESENT       10000 non-null  object\n",
            " 9   ADDRESS                         10000 non-null  object\n",
            " 10  APARTMENT NUMBER                10000 non-null  object\n",
            " 11  ZIP CODE                        10000 non-null  int64 \n",
            " 12  RESIDENTIAL UNITS               10000 non-null  int64 \n",
            " 13  COMMERCIAL UNITS                10000 non-null  int64 \n",
            " 14  TOTAL UNITS                     10000 non-null  int64 \n",
            " 15  LAND SQUARE FEET                10000 non-null  object\n",
            " 16  GROSS SQUARE FEET               10000 non-null  object\n",
            " 17  YEAR BUILT                      10000 non-null  int64 \n",
            " 18  TAX CLASS AT TIME OF SALE       10000 non-null  int64 \n",
            " 19  BUILDING CLASS AT TIME OF SALE  10000 non-null  object\n",
            " 20  SALE PRICE                      10000 non-null  object\n",
            " 21  SALE DATE                       10000 non-null  object\n",
            "dtypes: int64(10), object(12)\n",
            "memory usage: 1.8+ MB\n"
          ]
        }
      ]
    },
    {
      "cell_type": "markdown",
      "source": [
        "statistics for numerical columns"
      ],
      "metadata": {
        "id": "uxWCrzLbrRWl"
      }
    },
    {
      "cell_type": "code",
      "source": [
        "data_downsampled.describe()"
      ],
      "metadata": {
        "colab": {
          "base_uri": "https://localhost:8080/",
          "height": 300
        },
        "id": "A0xXT9-5rUKd",
        "outputId": "dc12aed8-6593-4f41-eb4f-e8a5b0687b88"
      },
      "execution_count": 25,
      "outputs": [
        {
          "output_type": "execute_result",
          "data": {
            "text/plain": [
              "         Unnamed: 0       BOROUGH         BLOCK           LOT     ZIP CODE  \\\n",
              "count  10000.000000  10000.000000  10000.000000  10000.000000  10000.00000   \n",
              "mean   10292.532600      3.005600   4238.621900    371.716100  10746.61170   \n",
              "std     7085.766691      1.284264   3564.308241    643.791841   1264.05858   \n",
              "min        6.000000      1.000000      1.000000      1.000000      0.00000   \n",
              "25%     4234.000000      2.000000   1334.000000     21.000000  10305.00000   \n",
              "50%     8914.500000      3.000000   3296.000000     50.000000  11210.00000   \n",
              "75%    15843.250000      4.000000   6299.000000    957.000000  11357.00000   \n",
              "max    26739.000000      5.000000  16313.000000   9099.000000  11694.00000   \n",
              "\n",
              "       RESIDENTIAL UNITS  COMMERCIAL UNITS   TOTAL UNITS    YEAR BUILT  \\\n",
              "count       10000.000000      10000.000000  10000.000000  10000.000000   \n",
              "mean            2.419900          0.122500      2.574300   1790.754800   \n",
              "std            30.730226          0.850744     31.077974    534.505309   \n",
              "min             0.000000          0.000000      0.000000      0.000000   \n",
              "25%             0.000000          0.000000      1.000000   1920.000000   \n",
              "50%             1.000000          0.000000      1.000000   1940.000000   \n",
              "75%             2.000000          0.000000      2.000000   1965.000000   \n",
              "max          1844.000000         27.000000   1866.000000   2017.000000   \n",
              "\n",
              "       TAX CLASS AT TIME OF SALE  \n",
              "count               10000.000000  \n",
              "mean                    1.656200  \n",
              "std                     0.817354  \n",
              "min                     1.000000  \n",
              "25%                     1.000000  \n",
              "50%                     2.000000  \n",
              "75%                     2.000000  \n",
              "max                     4.000000  "
            ],
            "text/html": [
              "\n",
              "  <div id=\"df-6414fc60-07b1-4a3a-8056-7e72b40e0493\" class=\"colab-df-container\">\n",
              "    <div>\n",
              "<style scoped>\n",
              "    .dataframe tbody tr th:only-of-type {\n",
              "        vertical-align: middle;\n",
              "    }\n",
              "\n",
              "    .dataframe tbody tr th {\n",
              "        vertical-align: top;\n",
              "    }\n",
              "\n",
              "    .dataframe thead th {\n",
              "        text-align: right;\n",
              "    }\n",
              "</style>\n",
              "<table border=\"1\" class=\"dataframe\">\n",
              "  <thead>\n",
              "    <tr style=\"text-align: right;\">\n",
              "      <th></th>\n",
              "      <th>Unnamed: 0</th>\n",
              "      <th>BOROUGH</th>\n",
              "      <th>BLOCK</th>\n",
              "      <th>LOT</th>\n",
              "      <th>ZIP CODE</th>\n",
              "      <th>RESIDENTIAL UNITS</th>\n",
              "      <th>COMMERCIAL UNITS</th>\n",
              "      <th>TOTAL UNITS</th>\n",
              "      <th>YEAR BUILT</th>\n",
              "      <th>TAX CLASS AT TIME OF SALE</th>\n",
              "    </tr>\n",
              "  </thead>\n",
              "  <tbody>\n",
              "    <tr>\n",
              "      <th>count</th>\n",
              "      <td>10000.000000</td>\n",
              "      <td>10000.000000</td>\n",
              "      <td>10000.000000</td>\n",
              "      <td>10000.000000</td>\n",
              "      <td>10000.00000</td>\n",
              "      <td>10000.000000</td>\n",
              "      <td>10000.000000</td>\n",
              "      <td>10000.000000</td>\n",
              "      <td>10000.000000</td>\n",
              "      <td>10000.000000</td>\n",
              "    </tr>\n",
              "    <tr>\n",
              "      <th>mean</th>\n",
              "      <td>10292.532600</td>\n",
              "      <td>3.005600</td>\n",
              "      <td>4238.621900</td>\n",
              "      <td>371.716100</td>\n",
              "      <td>10746.61170</td>\n",
              "      <td>2.419900</td>\n",
              "      <td>0.122500</td>\n",
              "      <td>2.574300</td>\n",
              "      <td>1790.754800</td>\n",
              "      <td>1.656200</td>\n",
              "    </tr>\n",
              "    <tr>\n",
              "      <th>std</th>\n",
              "      <td>7085.766691</td>\n",
              "      <td>1.284264</td>\n",
              "      <td>3564.308241</td>\n",
              "      <td>643.791841</td>\n",
              "      <td>1264.05858</td>\n",
              "      <td>30.730226</td>\n",
              "      <td>0.850744</td>\n",
              "      <td>31.077974</td>\n",
              "      <td>534.505309</td>\n",
              "      <td>0.817354</td>\n",
              "    </tr>\n",
              "    <tr>\n",
              "      <th>min</th>\n",
              "      <td>6.000000</td>\n",
              "      <td>1.000000</td>\n",
              "      <td>1.000000</td>\n",
              "      <td>1.000000</td>\n",
              "      <td>0.00000</td>\n",
              "      <td>0.000000</td>\n",
              "      <td>0.000000</td>\n",
              "      <td>0.000000</td>\n",
              "      <td>0.000000</td>\n",
              "      <td>1.000000</td>\n",
              "    </tr>\n",
              "    <tr>\n",
              "      <th>25%</th>\n",
              "      <td>4234.000000</td>\n",
              "      <td>2.000000</td>\n",
              "      <td>1334.000000</td>\n",
              "      <td>21.000000</td>\n",
              "      <td>10305.00000</td>\n",
              "      <td>0.000000</td>\n",
              "      <td>0.000000</td>\n",
              "      <td>1.000000</td>\n",
              "      <td>1920.000000</td>\n",
              "      <td>1.000000</td>\n",
              "    </tr>\n",
              "    <tr>\n",
              "      <th>50%</th>\n",
              "      <td>8914.500000</td>\n",
              "      <td>3.000000</td>\n",
              "      <td>3296.000000</td>\n",
              "      <td>50.000000</td>\n",
              "      <td>11210.00000</td>\n",
              "      <td>1.000000</td>\n",
              "      <td>0.000000</td>\n",
              "      <td>1.000000</td>\n",
              "      <td>1940.000000</td>\n",
              "      <td>2.000000</td>\n",
              "    </tr>\n",
              "    <tr>\n",
              "      <th>75%</th>\n",
              "      <td>15843.250000</td>\n",
              "      <td>4.000000</td>\n",
              "      <td>6299.000000</td>\n",
              "      <td>957.000000</td>\n",
              "      <td>11357.00000</td>\n",
              "      <td>2.000000</td>\n",
              "      <td>0.000000</td>\n",
              "      <td>2.000000</td>\n",
              "      <td>1965.000000</td>\n",
              "      <td>2.000000</td>\n",
              "    </tr>\n",
              "    <tr>\n",
              "      <th>max</th>\n",
              "      <td>26739.000000</td>\n",
              "      <td>5.000000</td>\n",
              "      <td>16313.000000</td>\n",
              "      <td>9099.000000</td>\n",
              "      <td>11694.00000</td>\n",
              "      <td>1844.000000</td>\n",
              "      <td>27.000000</td>\n",
              "      <td>1866.000000</td>\n",
              "      <td>2017.000000</td>\n",
              "      <td>4.000000</td>\n",
              "    </tr>\n",
              "  </tbody>\n",
              "</table>\n",
              "</div>\n",
              "    <div class=\"colab-df-buttons\">\n",
              "\n",
              "  <div class=\"colab-df-container\">\n",
              "    <button class=\"colab-df-convert\" onclick=\"convertToInteractive('df-6414fc60-07b1-4a3a-8056-7e72b40e0493')\"\n",
              "            title=\"Convert this dataframe to an interactive table.\"\n",
              "            style=\"display:none;\">\n",
              "\n",
              "  <svg xmlns=\"http://www.w3.org/2000/svg\" height=\"24px\" viewBox=\"0 -960 960 960\">\n",
              "    <path d=\"M120-120v-720h720v720H120Zm60-500h600v-160H180v160Zm220 220h160v-160H400v160Zm0 220h160v-160H400v160ZM180-400h160v-160H180v160Zm440 0h160v-160H620v160ZM180-180h160v-160H180v160Zm440 0h160v-160H620v160Z\"/>\n",
              "  </svg>\n",
              "    </button>\n",
              "\n",
              "  <style>\n",
              "    .colab-df-container {\n",
              "      display:flex;\n",
              "      gap: 12px;\n",
              "    }\n",
              "\n",
              "    .colab-df-convert {\n",
              "      background-color: #E8F0FE;\n",
              "      border: none;\n",
              "      border-radius: 50%;\n",
              "      cursor: pointer;\n",
              "      display: none;\n",
              "      fill: #1967D2;\n",
              "      height: 32px;\n",
              "      padding: 0 0 0 0;\n",
              "      width: 32px;\n",
              "    }\n",
              "\n",
              "    .colab-df-convert:hover {\n",
              "      background-color: #E2EBFA;\n",
              "      box-shadow: 0px 1px 2px rgba(60, 64, 67, 0.3), 0px 1px 3px 1px rgba(60, 64, 67, 0.15);\n",
              "      fill: #174EA6;\n",
              "    }\n",
              "\n",
              "    .colab-df-buttons div {\n",
              "      margin-bottom: 4px;\n",
              "    }\n",
              "\n",
              "    [theme=dark] .colab-df-convert {\n",
              "      background-color: #3B4455;\n",
              "      fill: #D2E3FC;\n",
              "    }\n",
              "\n",
              "    [theme=dark] .colab-df-convert:hover {\n",
              "      background-color: #434B5C;\n",
              "      box-shadow: 0px 1px 3px 1px rgba(0, 0, 0, 0.15);\n",
              "      filter: drop-shadow(0px 1px 2px rgba(0, 0, 0, 0.3));\n",
              "      fill: #FFFFFF;\n",
              "    }\n",
              "  </style>\n",
              "\n",
              "    <script>\n",
              "      const buttonEl =\n",
              "        document.querySelector('#df-6414fc60-07b1-4a3a-8056-7e72b40e0493 button.colab-df-convert');\n",
              "      buttonEl.style.display =\n",
              "        google.colab.kernel.accessAllowed ? 'block' : 'none';\n",
              "\n",
              "      async function convertToInteractive(key) {\n",
              "        const element = document.querySelector('#df-6414fc60-07b1-4a3a-8056-7e72b40e0493');\n",
              "        const dataTable =\n",
              "          await google.colab.kernel.invokeFunction('convertToInteractive',\n",
              "                                                    [key], {});\n",
              "        if (!dataTable) return;\n",
              "\n",
              "        const docLinkHtml = 'Like what you see? Visit the ' +\n",
              "          '<a target=\"_blank\" href=https://colab.research.google.com/notebooks/data_table.ipynb>data table notebook</a>'\n",
              "          + ' to learn more about interactive tables.';\n",
              "        element.innerHTML = '';\n",
              "        dataTable['output_type'] = 'display_data';\n",
              "        await google.colab.output.renderOutput(dataTable, element);\n",
              "        const docLink = document.createElement('div');\n",
              "        docLink.innerHTML = docLinkHtml;\n",
              "        element.appendChild(docLink);\n",
              "      }\n",
              "    </script>\n",
              "  </div>\n",
              "\n",
              "\n",
              "<div id=\"df-4b44f95a-47c3-4b9c-916a-1263a5b4ddac\">\n",
              "  <button class=\"colab-df-quickchart\" onclick=\"quickchart('df-4b44f95a-47c3-4b9c-916a-1263a5b4ddac')\"\n",
              "            title=\"Suggest charts\"\n",
              "            style=\"display:none;\">\n",
              "\n",
              "<svg xmlns=\"http://www.w3.org/2000/svg\" height=\"24px\"viewBox=\"0 0 24 24\"\n",
              "     width=\"24px\">\n",
              "    <g>\n",
              "        <path d=\"M19 3H5c-1.1 0-2 .9-2 2v14c0 1.1.9 2 2 2h14c1.1 0 2-.9 2-2V5c0-1.1-.9-2-2-2zM9 17H7v-7h2v7zm4 0h-2V7h2v10zm4 0h-2v-4h2v4z\"/>\n",
              "    </g>\n",
              "</svg>\n",
              "  </button>\n",
              "\n",
              "<style>\n",
              "  .colab-df-quickchart {\n",
              "      --bg-color: #E8F0FE;\n",
              "      --fill-color: #1967D2;\n",
              "      --hover-bg-color: #E2EBFA;\n",
              "      --hover-fill-color: #174EA6;\n",
              "      --disabled-fill-color: #AAA;\n",
              "      --disabled-bg-color: #DDD;\n",
              "  }\n",
              "\n",
              "  [theme=dark] .colab-df-quickchart {\n",
              "      --bg-color: #3B4455;\n",
              "      --fill-color: #D2E3FC;\n",
              "      --hover-bg-color: #434B5C;\n",
              "      --hover-fill-color: #FFFFFF;\n",
              "      --disabled-bg-color: #3B4455;\n",
              "      --disabled-fill-color: #666;\n",
              "  }\n",
              "\n",
              "  .colab-df-quickchart {\n",
              "    background-color: var(--bg-color);\n",
              "    border: none;\n",
              "    border-radius: 50%;\n",
              "    cursor: pointer;\n",
              "    display: none;\n",
              "    fill: var(--fill-color);\n",
              "    height: 32px;\n",
              "    padding: 0;\n",
              "    width: 32px;\n",
              "  }\n",
              "\n",
              "  .colab-df-quickchart:hover {\n",
              "    background-color: var(--hover-bg-color);\n",
              "    box-shadow: 0 1px 2px rgba(60, 64, 67, 0.3), 0 1px 3px 1px rgba(60, 64, 67, 0.15);\n",
              "    fill: var(--button-hover-fill-color);\n",
              "  }\n",
              "\n",
              "  .colab-df-quickchart-complete:disabled,\n",
              "  .colab-df-quickchart-complete:disabled:hover {\n",
              "    background-color: var(--disabled-bg-color);\n",
              "    fill: var(--disabled-fill-color);\n",
              "    box-shadow: none;\n",
              "  }\n",
              "\n",
              "  .colab-df-spinner {\n",
              "    border: 2px solid var(--fill-color);\n",
              "    border-color: transparent;\n",
              "    border-bottom-color: var(--fill-color);\n",
              "    animation:\n",
              "      spin 1s steps(1) infinite;\n",
              "  }\n",
              "\n",
              "  @keyframes spin {\n",
              "    0% {\n",
              "      border-color: transparent;\n",
              "      border-bottom-color: var(--fill-color);\n",
              "      border-left-color: var(--fill-color);\n",
              "    }\n",
              "    20% {\n",
              "      border-color: transparent;\n",
              "      border-left-color: var(--fill-color);\n",
              "      border-top-color: var(--fill-color);\n",
              "    }\n",
              "    30% {\n",
              "      border-color: transparent;\n",
              "      border-left-color: var(--fill-color);\n",
              "      border-top-color: var(--fill-color);\n",
              "      border-right-color: var(--fill-color);\n",
              "    }\n",
              "    40% {\n",
              "      border-color: transparent;\n",
              "      border-right-color: var(--fill-color);\n",
              "      border-top-color: var(--fill-color);\n",
              "    }\n",
              "    60% {\n",
              "      border-color: transparent;\n",
              "      border-right-color: var(--fill-color);\n",
              "    }\n",
              "    80% {\n",
              "      border-color: transparent;\n",
              "      border-right-color: var(--fill-color);\n",
              "      border-bottom-color: var(--fill-color);\n",
              "    }\n",
              "    90% {\n",
              "      border-color: transparent;\n",
              "      border-bottom-color: var(--fill-color);\n",
              "    }\n",
              "  }\n",
              "</style>\n",
              "\n",
              "  <script>\n",
              "    async function quickchart(key) {\n",
              "      const quickchartButtonEl =\n",
              "        document.querySelector('#' + key + ' button');\n",
              "      quickchartButtonEl.disabled = true;  // To prevent multiple clicks.\n",
              "      quickchartButtonEl.classList.add('colab-df-spinner');\n",
              "      try {\n",
              "        const charts = await google.colab.kernel.invokeFunction(\n",
              "            'suggestCharts', [key], {});\n",
              "      } catch (error) {\n",
              "        console.error('Error during call to suggestCharts:', error);\n",
              "      }\n",
              "      quickchartButtonEl.classList.remove('colab-df-spinner');\n",
              "      quickchartButtonEl.classList.add('colab-df-quickchart-complete');\n",
              "    }\n",
              "    (() => {\n",
              "      let quickchartButtonEl =\n",
              "        document.querySelector('#df-4b44f95a-47c3-4b9c-916a-1263a5b4ddac button');\n",
              "      quickchartButtonEl.style.display =\n",
              "        google.colab.kernel.accessAllowed ? 'block' : 'none';\n",
              "    })();\n",
              "  </script>\n",
              "</div>\n",
              "\n",
              "    </div>\n",
              "  </div>\n"
            ],
            "application/vnd.google.colaboratory.intrinsic+json": {
              "type": "dataframe",
              "summary": "{\n  \"name\": \"data_downsampled\",\n  \"rows\": 8,\n  \"fields\": [\n    {\n      \"column\": \"Unnamed: 0\",\n      \"properties\": {\n        \"dtype\": \"number\",\n        \"std\": 8071.184931634245,\n        \"min\": 6.0,\n        \"max\": 26739.0,\n        \"num_unique_values\": 8,\n        \"samples\": [\n          10292.5326,\n          8914.5,\n          10000.0\n        ],\n        \"semantic_type\": \"\",\n        \"description\": \"\"\n      }\n    },\n    {\n      \"column\": \"BOROUGH\",\n      \"properties\": {\n        \"dtype\": \"number\",\n        \"std\": 3534.559873814267,\n        \"min\": 1.0,\n        \"max\": 10000.0,\n        \"num_unique_values\": 8,\n        \"samples\": [\n          3.0056,\n          3.0,\n          10000.0\n        ],\n        \"semantic_type\": \"\",\n        \"description\": \"\"\n      }\n    },\n    {\n      \"column\": \"BLOCK\",\n      \"properties\": {\n        \"dtype\": \"number\",\n        \"std\": 5284.245777551946,\n        \"min\": 1.0,\n        \"max\": 16313.0,\n        \"num_unique_values\": 8,\n        \"samples\": [\n          4238.6219,\n          3296.0,\n          10000.0\n        ],\n        \"semantic_type\": \"\",\n        \"description\": \"\"\n      }\n    },\n    {\n      \"column\": \"LOT\",\n      \"properties\": {\n        \"dtype\": \"number\",\n        \"std\": 4282.560011845705,\n        \"min\": 1.0,\n        \"max\": 10000.0,\n        \"num_unique_values\": 8,\n        \"samples\": [\n          371.7161,\n          50.0,\n          10000.0\n        ],\n        \"semantic_type\": \"\",\n        \"description\": \"\"\n      }\n    },\n    {\n      \"column\": \"ZIP CODE\",\n      \"properties\": {\n        \"dtype\": \"number\",\n        \"std\": 4790.154917279044,\n        \"min\": 0.0,\n        \"max\": 11694.0,\n        \"num_unique_values\": 8,\n        \"samples\": [\n          10746.6117,\n          11210.0,\n          10000.0\n        ],\n        \"semantic_type\": \"\",\n        \"description\": \"\"\n      }\n    },\n    {\n      \"column\": \"RESIDENTIAL UNITS\",\n      \"properties\": {\n        \"dtype\": \"number\",\n        \"std\": 3500.1845935875285,\n        \"min\": 0.0,\n        \"max\": 10000.0,\n        \"num_unique_values\": 7,\n        \"samples\": [\n          10000.0,\n          2.4199,\n          2.0\n        ],\n        \"semantic_type\": \"\",\n        \"description\": \"\"\n      }\n    },\n    {\n      \"column\": \"COMMERCIAL UNITS\",\n      \"properties\": {\n        \"dtype\": \"number\",\n        \"std\": 3534.133533228595,\n        \"min\": 0.0,\n        \"max\": 10000.0,\n        \"num_unique_values\": 5,\n        \"samples\": [\n          0.1225,\n          27.0,\n          0.8507444543531631\n        ],\n        \"semantic_type\": \"\",\n        \"description\": \"\"\n      }\n    },\n    {\n      \"column\": \"TOTAL UNITS\",\n      \"properties\": {\n        \"dtype\": \"number\",\n        \"std\": 3500.424816772876,\n        \"min\": 0.0,\n        \"max\": 10000.0,\n        \"num_unique_values\": 7,\n        \"samples\": [\n          10000.0,\n          2.5743,\n          2.0\n        ],\n        \"semantic_type\": \"\",\n        \"description\": \"\"\n      }\n    },\n    {\n      \"column\": \"YEAR BUILT\",\n      \"properties\": {\n        \"dtype\": \"number\",\n        \"std\": 3117.5130918008363,\n        \"min\": 0.0,\n        \"max\": 10000.0,\n        \"num_unique_values\": 8,\n        \"samples\": [\n          1790.7548,\n          1940.0,\n          10000.0\n        ],\n        \"semantic_type\": \"\",\n        \"description\": \"\"\n      }\n    },\n    {\n      \"column\": \"TAX CLASS AT TIME OF SALE\",\n      \"properties\": {\n        \"dtype\": \"number\",\n        \"std\": 3534.9040414565247,\n        \"min\": 0.8173544927610563,\n        \"max\": 10000.0,\n        \"num_unique_values\": 6,\n        \"samples\": [\n          10000.0,\n          1.6562,\n          4.0\n        ],\n        \"semantic_type\": \"\",\n        \"description\": \"\"\n      }\n    }\n  ]\n}"
            }
          },
          "metadata": {},
          "execution_count": 25
        }
      ]
    },
    {
      "cell_type": "code",
      "source": [
        "#Box plot of 'SALE PRICE' to identify outliers\n",
        "#plt.figure(figsize=(8, 6))\n",
        "#sns.boxplot(data['SALE PRICE'], color='green')\n",
        "#plt.title('Boxplot of SALE PRICE')\n",
        "#plt.xlabel('SALE PRICE')\n",
        "#plt.show()"
      ],
      "metadata": {
        "id": "gbcPzKUqry_d"
      },
      "execution_count": 26,
      "outputs": []
    },
    {
      "cell_type": "code",
      "source": [
        "# Count plot of 'BOROUGH'\n",
        "#plt.figure(figsize=(8, 6))\n",
        "#sns.countplot(data['BOROUGH'], palette='pastel')\n",
        "#plt.title('Number of Sales by Borough')\n",
        "#plt.xlabel('Borough')\n",
        "#plt.ylabel('Number of Sales')\n",
        "#plt.show()"
      ],
      "metadata": {
        "id": "c1uMGQi-sl-Y"
      },
      "execution_count": null,
      "outputs": []
    },
    {
      "cell_type": "code",
      "source": [
        "# Scatter plot of 'GROSS SQUARE FEET' vs 'SALE PRICE'\n",
        "plt.figure(figsize=(10, 8))\n",
        "sns.scatterplot(x='GROSS SQUARE FEET', y='SALE PRICE', data=data_downsampled, alpha=0.5)\n",
        "plt.title('Scatter Plot of GROSS SQUARE FEET vs SALE PRICE')\n",
        "plt.xlabel('GROSS SQUARE FEET')\n",
        "plt.ylabel('SALE PRICE')\n",
        "plt.show()"
      ],
      "metadata": {
        "colab": {
          "base_uri": "https://localhost:8080/",
          "height": 727
        },
        "id": "xCuhimMwt7j7",
        "outputId": "88a69e8b-9dd0-4e50-9feb-68bdb9690995"
      },
      "execution_count": 28,
      "outputs": [
        {
          "output_type": "display_data",
          "data": {
            "text/plain": [
              "<Figure size 1000x800 with 1 Axes>"
            ],
            "image/png": "[encoded data removed]"
          },
          "metadata": {}
        }
      ]
    },
    {
      "cell_type": "markdown",
      "metadata": {
        "id": "6GZsnSiMkhpo"
      },
      "source": [
        "##Find Missing Values"
      ]
    },
    {
      "cell_type": "code",
      "source": [
        "data_downsampled.isnull().values.any()"
      ],
      "metadata": {
        "id": "Rm3-wJPj1F59",
        "colab": {
          "base_uri": "https://localhost:8080/"
        },
        "outputId": "990e9816-96b7-4e19-c70e-adb5d538c9ce"
      },
      "execution_count": 29,
      "outputs": [
        {
          "output_type": "execute_result",
          "data": {
            "text/plain": [
              "False"
            ]
          },
          "metadata": {},
          "execution_count": 29
        }
      ]
    },
    {
      "cell_type": "code",
      "source": [
        "data_downsampled.isnull()"
      ],
      "metadata": {
        "id": "IYuweADisljJ",
        "colab": {
          "base_uri": "https://localhost:8080/",
          "height": 530
        },
        "outputId": "417b6872-6e3a-47ee-cedd-315311f2fae1"
      },
      "execution_count": 30,
      "outputs": [
        {
          "output_type": "execute_result",
          "data": {
            "text/plain": [
              "       Unnamed: 0  BOROUGH  NEIGHBORHOOD  BUILDING CLASS CATEGORY  \\\n",
              "69520       False    False         False                    False   \n",
              "76927       False    False         False                    False   \n",
              "82052       False    False         False                    False   \n",
              "56261       False    False         False                    False   \n",
              "61503       False    False         False                    False   \n",
              "...           ...      ...           ...                      ...   \n",
              "33030       False    False         False                    False   \n",
              "55163       False    False         False                    False   \n",
              "49980       False    False         False                    False   \n",
              "57168       False    False         False                    False   \n",
              "39656       False    False         False                    False   \n",
              "\n",
              "       TAX CLASS AT PRESENT  BLOCK    LOT  EASE-MENT  \\\n",
              "69520                 False  False  False      False   \n",
              "76927                 False  False  False      False   \n",
              "82052                 False  False  False      False   \n",
              "56261                 False  False  False      False   \n",
              "61503                 False  False  False      False   \n",
              "...                     ...    ...    ...        ...   \n",
              "33030                 False  False  False      False   \n",
              "55163                 False  False  False      False   \n",
              "49980                 False  False  False      False   \n",
              "57168                 False  False  False      False   \n",
              "39656                 False  False  False      False   \n",
              "\n",
              "       BUILDING CLASS AT PRESENT  ADDRESS  ...  RESIDENTIAL UNITS  \\\n",
              "69520                      False    False  ...              False   \n",
              "76927                      False    False  ...              False   \n",
              "82052                      False    False  ...              False   \n",
              "56261                      False    False  ...              False   \n",
              "61503                      False    False  ...              False   \n",
              "...                          ...      ...  ...                ...   \n",
              "33030                      False    False  ...              False   \n",
              "55163                      False    False  ...              False   \n",
              "49980                      False    False  ...              False   \n",
              "57168                      False    False  ...              False   \n",
              "39656                      False    False  ...              False   \n",
              "\n",
              "       COMMERCIAL UNITS  TOTAL UNITS  LAND SQUARE FEET  GROSS SQUARE FEET  \\\n",
              "69520             False        False             False              False   \n",
              "76927             False        False             False              False   \n",
              "82052             False        False             False              False   \n",
              "56261             False        False             False              False   \n",
              "61503             False        False             False              False   \n",
              "...                 ...          ...               ...                ...   \n",
              "33030             False        False             False              False   \n",
              "55163             False        False             False              False   \n",
              "49980             False        False             False              False   \n",
              "57168             False        False             False              False   \n",
              "39656             False        False             False              False   \n",
              "\n",
              "       YEAR BUILT  TAX CLASS AT TIME OF SALE  BUILDING CLASS AT TIME OF SALE  \\\n",
              "69520       False                      False                           False   \n",
              "76927       False                      False                           False   \n",
              "82052       False                      False                           False   \n",
              "56261       False                      False                           False   \n",
              "61503       False                      False                           False   \n",
              "...           ...                        ...                             ...   \n",
              "33030       False                      False                           False   \n",
              "55163       False                      False                           False   \n",
              "49980       False                      False                           False   \n",
              "57168       False                      False                           False   \n",
              "39656       False                      False                           False   \n",
              "\n",
              "       SALE PRICE  SALE DATE  \n",
              "69520       False      False  \n",
              "76927       False      False  \n",
              "82052       False      False  \n",
              "56261       False      False  \n",
              "61503       False      False  \n",
              "...           ...        ...  \n",
              "33030       False      False  \n",
              "55163       False      False  \n",
              "49980       False      False  \n",
              "57168       False      False  \n",
              "39656       False      False  \n",
              "\n",
              "[10000 rows x 22 columns]"
            ],
            "text/html": [
              "\n",
              "  <div id=\"df-99d19cec-52d5-49e8-8212-823909075e2e\" class=\"colab-df-container\">\n",
              "    <div>\n",
              "<style scoped>\n",
              "    .dataframe tbody tr th:only-of-type {\n",
              "        vertical-align: middle;\n",
              "    }\n",
              "\n",
              "    .dataframe tbody tr th {\n",
              "        vertical-align: top;\n",
              "    }\n",
              "\n",
              "    .dataframe thead th {\n",
              "        text-align: right;\n",
              "    }\n",
              "</style>\n",
              "<table border=\"1\" class=\"dataframe\">\n",
              "  <thead>\n",
              "    <tr style=\"text-align: right;\">\n",
              "      <th></th>\n",
              "      <th>Unnamed: 0</th>\n",
              "      <th>BOROUGH</th>\n",
              "      <th>NEIGHBORHOOD</th>\n",
              "      <th>BUILDING CLASS CATEGORY</th>\n",
              "      <th>TAX CLASS AT PRESENT</th>\n",
              "      <th>BLOCK</th>\n",
              "      <th>LOT</th>\n",
              "      <th>EASE-MENT</th>\n",
              "      <th>BUILDING CLASS AT PRESENT</th>\n",
              "      <th>ADDRESS</th>\n",
              "      <th>...</th>\n",
              "      <th>RESIDENTIAL UNITS</th>\n",
              "      <th>COMMERCIAL UNITS</th>\n",
              "      <th>TOTAL UNITS</th>\n",
              "      <th>LAND SQUARE FEET</th>\n",
              "      <th>GROSS SQUARE FEET</th>\n",
              "      <th>YEAR BUILT</th>\n",
              "      <th>TAX CLASS AT TIME OF SALE</th>\n",
              "      <th>BUILDING CLASS AT TIME OF SALE</th>\n",
              "      <th>SALE PRICE</th>\n",
              "      <th>SALE DATE</th>\n",
              "    </tr>\n",
              "  </thead>\n",
              "  <tbody>\n",
              "    <tr>\n",
              "      <th>69520</th>\n",
              "      <td>False</td>\n",
              "      <td>False</td>\n",
              "      <td>False</td>\n",
              "      <td>False</td>\n",
              "      <td>False</td>\n",
              "      <td>False</td>\n",
              "      <td>False</td>\n",
              "      <td>False</td>\n",
              "      <td>False</td>\n",
              "      <td>False</td>\n",
              "      <td>...</td>\n",
              "      <td>False</td>\n",
              "      <td>False</td>\n",
              "      <td>False</td>\n",
              "      <td>False</td>\n",
              "      <td>False</td>\n",
              "      <td>False</td>\n",
              "      <td>False</td>\n",
              "      <td>False</td>\n",
              "      <td>False</td>\n",
              "      <td>False</td>\n",
              "    </tr>\n",
              "    <tr>\n",
              "      <th>76927</th>\n",
              "      <td>False</td>\n",
              "      <td>False</td>\n",
              "      <td>False</td>\n",
              "      <td>False</td>\n",
              "      <td>False</td>\n",
              "      <td>False</td>\n",
              "      <td>False</td>\n",
              "      <td>False</td>\n",
              "      <td>False</td>\n",
              "      <td>False</td>\n",
              "      <td>...</td>\n",
              "      <td>False</td>\n",
              "      <td>False</td>\n",
              "      <td>False</td>\n",
              "      <td>False</td>\n",
              "      <td>False</td>\n",
              "      <td>False</td>\n",
              "      <td>False</td>\n",
              "      <td>False</td>\n",
              "      <td>False</td>\n",
              "      <td>False</td>\n",
              "    </tr>\n",
              "    <tr>\n",
              "      <th>82052</th>\n",
              "      <td>False</td>\n",
              "      <td>False</td>\n",
              "      <td>False</td>\n",
              "      <td>False</td>\n",
              "      <td>False</td>\n",
              "      <td>False</td>\n",
              "      <td>False</td>\n",
              "      <td>False</td>\n",
              "      <td>False</td>\n",
              "      <td>False</td>\n",
              "      <td>...</td>\n",
              "      <td>False</td>\n",
              "      <td>False</td>\n",
              "      <td>False</td>\n",
              "      <td>False</td>\n",
              "      <td>False</td>\n",
              "      <td>False</td>\n",
              "      <td>False</td>\n",
              "      <td>False</td>\n",
              "      <td>False</td>\n",
              "      <td>False</td>\n",
              "    </tr>\n",
              "    <tr>\n",
              "      <th>56261</th>\n",
              "      <td>False</td>\n",
              "      <td>False</td>\n",
              "      <td>False</td>\n",
              "      <td>False</td>\n",
              "      <td>False</td>\n",
              "      <td>False</td>\n",
              "      <td>False</td>\n",
              "      <td>False</td>\n",
              "      <td>False</td>\n",
              "      <td>False</td>\n",
              "      <td>...</td>\n",
              "      <td>False</td>\n",
              "      <td>False</td>\n",
              "      <td>False</td>\n",
              "      <td>False</td>\n",
              "      <td>False</td>\n",
              "      <td>False</td>\n",
              "      <td>False</td>\n",
              "      <td>False</td>\n",
              "      <td>False</td>\n",
              "      <td>False</td>\n",
              "    </tr>\n",
              "    <tr>\n",
              "      <th>61503</th>\n",
              "      <td>False</td>\n",
              "      <td>False</td>\n",
              "      <td>False</td>\n",
              "      <td>False</td>\n",
              "      <td>False</td>\n",
              "      <td>False</td>\n",
              "      <td>False</td>\n",
              "      <td>False</td>\n",
              "      <td>False</td>\n",
              "      <td>False</td>\n",
              "      <td>...</td>\n",
              "      <td>False</td>\n",
              "      <td>False</td>\n",
              "      <td>False</td>\n",
              "      <td>False</td>\n",
              "      <td>False</td>\n",
              "      <td>False</td>\n",
              "      <td>False</td>\n",
              "      <td>False</td>\n",
              "      <td>False</td>\n",
              "      <td>False</td>\n",
              "    </tr>\n",
              "    <tr>\n",
              "      <th>...</th>\n",
              "      <td>...</td>\n",
              "      <td>...</td>\n",
              "      <td>...</td>\n",
              "      <td>...</td>\n",
              "      <td>...</td>\n",
              "      <td>...</td>\n",
              "      <td>...</td>\n",
              "      <td>...</td>\n",
              "      <td>...</td>\n",
              "      <td>...</td>\n",
              "      <td>...</td>\n",
              "      <td>...</td>\n",
              "      <td>...</td>\n",
              "      <td>...</td>\n",
              "      <td>...</td>\n",
              "      <td>...</td>\n",
              "      <td>...</td>\n",
              "      <td>...</td>\n",
              "      <td>...</td>\n",
              "      <td>...</td>\n",
              "      <td>...</td>\n",
              "    </tr>\n",
              "    <tr>\n",
              "      <th>33030</th>\n",
              "      <td>False</td>\n",
              "      <td>False</td>\n",
              "      <td>False</td>\n",
              "      <td>False</td>\n",
              "      <td>False</td>\n",
              "      <td>False</td>\n",
              "      <td>False</td>\n",
              "      <td>False</td>\n",
              "      <td>False</td>\n",
              "      <td>False</td>\n",
              "      <td>...</td>\n",
              "      <td>False</td>\n",
              "      <td>False</td>\n",
              "      <td>False</td>\n",
              "      <td>False</td>\n",
              "      <td>False</td>\n",
              "      <td>False</td>\n",
              "      <td>False</td>\n",
              "      <td>False</td>\n",
              "      <td>False</td>\n",
              "      <td>False</td>\n",
              "    </tr>\n",
              "    <tr>\n",
              "      <th>55163</th>\n",
              "      <td>False</td>\n",
              "      <td>False</td>\n",
              "      <td>False</td>\n",
              "      <td>False</td>\n",
              "      <td>False</td>\n",
              "      <td>False</td>\n",
              "      <td>False</td>\n",
              "      <td>False</td>\n",
              "      <td>False</td>\n",
              "      <td>False</td>\n",
              "      <td>...</td>\n",
              "      <td>False</td>\n",
              "      <td>False</td>\n",
              "      <td>False</td>\n",
              "      <td>False</td>\n",
              "      <td>False</td>\n",
              "      <td>False</td>\n",
              "      <td>False</td>\n",
              "      <td>False</td>\n",
              "      <td>False</td>\n",
              "      <td>False</td>\n",
              "    </tr>\n",
              "    <tr>\n",
              "      <th>49980</th>\n",
              "      <td>False</td>\n",
              "      <td>False</td>\n",
              "      <td>False</td>\n",
              "      <td>False</td>\n",
              "      <td>False</td>\n",
              "      <td>False</td>\n",
              "      <td>False</td>\n",
              "      <td>False</td>\n",
              "      <td>False</td>\n",
              "      <td>False</td>\n",
              "      <td>...</td>\n",
              "      <td>False</td>\n",
              "      <td>False</td>\n",
              "      <td>False</td>\n",
              "      <td>False</td>\n",
              "      <td>False</td>\n",
              "      <td>False</td>\n",
              "      <td>False</td>\n",
              "      <td>False</td>\n",
              "      <td>False</td>\n",
              "      <td>False</td>\n",
              "    </tr>\n",
              "    <tr>\n",
              "      <th>57168</th>\n",
              "      <td>False</td>\n",
              "      <td>False</td>\n",
              "      <td>False</td>\n",
              "      <td>False</td>\n",
              "      <td>False</td>\n",
              "      <td>False</td>\n",
              "      <td>False</td>\n",
              "      <td>False</td>\n",
              "      <td>False</td>\n",
              "      <td>False</td>\n",
              "      <td>...</td>\n",
              "      <td>False</td>\n",
              "      <td>False</td>\n",
              "      <td>False</td>\n",
              "      <td>False</td>\n",
              "      <td>False</td>\n",
              "      <td>False</td>\n",
              "      <td>False</td>\n",
              "      <td>False</td>\n",
              "      <td>False</td>\n",
              "      <td>False</td>\n",
              "    </tr>\n",
              "    <tr>\n",
              "      <th>39656</th>\n",
              "      <td>False</td>\n",
              "      <td>False</td>\n",
              "      <td>False</td>\n",
              "      <td>False</td>\n",
              "      <td>False</td>\n",
              "      <td>False</td>\n",
              "      <td>False</td>\n",
              "      <td>False</td>\n",
              "      <td>False</td>\n",
              "      <td>False</td>\n",
              "      <td>...</td>\n",
              "      <td>False</td>\n",
              "      <td>False</td>\n",
              "      <td>False</td>\n",
              "      <td>False</td>\n",
              "      <td>False</td>\n",
              "      <td>False</td>\n",
              "      <td>False</td>\n",
              "      <td>False</td>\n",
              "      <td>False</td>\n",
              "      <td>False</td>\n",
              "    </tr>\n",
              "  </tbody>\n",
              "</table>\n",
              "<p>10000 rows × 22 columns</p>\n",
              "</div>\n",
              "    <div class=\"colab-df-buttons\">\n",
              "\n",
              "  <div class=\"colab-df-container\">\n",
              "    <button class=\"colab-df-convert\" onclick=\"convertToInteractive('df-99d19cec-52d5-49e8-8212-823909075e2e')\"\n",
              "            title=\"Convert this dataframe to an interactive table.\"\n",
              "            style=\"display:none;\">\n",
              "\n",
              "  <svg xmlns=\"http://www.w3.org/2000/svg\" height=\"24px\" viewBox=\"0 -960 960 960\">\n",
              "    <path d=\"M120-120v-720h720v720H120Zm60-500h600v-160H180v160Zm220 220h160v-160H400v160Zm0 220h160v-160H400v160ZM180-400h160v-160H180v160Zm440 0h160v-160H620v160ZM180-180h160v-160H180v160Zm440 0h160v-160H620v160Z\"/>\n",
              "  </svg>\n",
              "    </button>\n",
              "\n",
              "  <style>\n",
              "    .colab-df-container {\n",
              "      display:flex;\n",
              "      gap: 12px;\n",
              "    }\n",
              "\n",
              "    .colab-df-convert {\n",
              "      background-color: #E8F0FE;\n",
              "      border: none;\n",
              "      border-radius: 50%;\n",
              "      cursor: pointer;\n",
              "      display: none;\n",
              "      fill: #1967D2;\n",
              "      height: 32px;\n",
              "      padding: 0 0 0 0;\n",
              "      width: 32px;\n",
              "    }\n",
              "\n",
              "    .colab-df-convert:hover {\n",
              "      background-color: #E2EBFA;\n",
              "      box-shadow: 0px 1px 2px rgba(60, 64, 67, 0.3), 0px 1px 3px 1px rgba(60, 64, 67, 0.15);\n",
              "      fill: #174EA6;\n",
              "    }\n",
              "\n",
              "    .colab-df-buttons div {\n",
              "      margin-bottom: 4px;\n",
              "    }\n",
              "\n",
              "    [theme=dark] .colab-df-convert {\n",
              "      background-color: #3B4455;\n",
              "      fill: #D2E3FC;\n",
              "    }\n",
              "\n",
              "    [theme=dark] .colab-df-convert:hover {\n",
              "      background-color: #434B5C;\n",
              "      box-shadow: 0px 1px 3px 1px rgba(0, 0, 0, 0.15);\n",
              "      filter: drop-shadow(0px 1px 2px rgba(0, 0, 0, 0.3));\n",
              "      fill: #FFFFFF;\n",
              "    }\n",
              "  </style>\n",
              "\n",
              "    <script>\n",
              "      const buttonEl =\n",
              "        document.querySelector('#df-99d19cec-52d5-49e8-8212-823909075e2e button.colab-df-convert');\n",
              "      buttonEl.style.display =\n",
              "        google.colab.kernel.accessAllowed ? 'block' : 'none';\n",
              "\n",
              "      async function convertToInteractive(key) {\n",
              "        const element = document.querySelector('#df-99d19cec-52d5-49e8-8212-823909075e2e');\n",
              "        const dataTable =\n",
              "          await google.colab.kernel.invokeFunction('convertToInteractive',\n",
              "                                                    [key], {});\n",
              "        if (!dataTable) return;\n",
              "\n",
              "        const docLinkHtml = 'Like what you see? Visit the ' +\n",
              "          '<a target=\"_blank\" href=https://colab.research.google.com/notebooks/data_table.ipynb>data table notebook</a>'\n",
              "          + ' to learn more about interactive tables.';\n",
              "        element.innerHTML = '';\n",
              "        dataTable['output_type'] = 'display_data';\n",
              "        await google.colab.output.renderOutput(dataTable, element);\n",
              "        const docLink = document.createElement('div');\n",
              "        docLink.innerHTML = docLinkHtml;\n",
              "        element.appendChild(docLink);\n",
              "      }\n",
              "    </script>\n",
              "  </div>\n",
              "\n",
              "\n",
              "<div id=\"df-395ddbcc-8be4-419e-ab0b-3e443bce3c67\">\n",
              "  <button class=\"colab-df-quickchart\" onclick=\"quickchart('df-395ddbcc-8be4-419e-ab0b-3e443bce3c67')\"\n",
              "            title=\"Suggest charts\"\n",
              "            style=\"display:none;\">\n",
              "\n",
              "<svg xmlns=\"http://www.w3.org/2000/svg\" height=\"24px\"viewBox=\"0 0 24 24\"\n",
              "     width=\"24px\">\n",
              "    <g>\n",
              "        <path d=\"M19 3H5c-1.1 0-2 .9-2 2v14c0 1.1.9 2 2 2h14c1.1 0 2-.9 2-2V5c0-1.1-.9-2-2-2zM9 17H7v-7h2v7zm4 0h-2V7h2v10zm4 0h-2v-4h2v4z\"/>\n",
              "    </g>\n",
              "</svg>\n",
              "  </button>\n",
              "\n",
              "<style>\n",
              "  .colab-df-quickchart {\n",
              "      --bg-color: #E8F0FE;\n",
              "      --fill-color: #1967D2;\n",
              "      --hover-bg-color: #E2EBFA;\n",
              "      --hover-fill-color: #174EA6;\n",
              "      --disabled-fill-color: #AAA;\n",
              "      --disabled-bg-color: #DDD;\n",
              "  }\n",
              "\n",
              "  [theme=dark] .colab-df-quickchart {\n",
              "      --bg-color: #3B4455;\n",
              "      --fill-color: #D2E3FC;\n",
              "      --hover-bg-color: #434B5C;\n",
              "      --hover-fill-color: #FFFFFF;\n",
              "      --disabled-bg-color: #3B4455;\n",
              "      --disabled-fill-color: #666;\n",
              "  }\n",
              "\n",
              "  .colab-df-quickchart {\n",
              "    background-color: var(--bg-color);\n",
              "    border: none;\n",
              "    border-radius: 50%;\n",
              "    cursor: pointer;\n",
              "    display: none;\n",
              "    fill: var(--fill-color);\n",
              "    height: 32px;\n",
              "    padding: 0;\n",
              "    width: 32px;\n",
              "  }\n",
              "\n",
              "  .colab-df-quickchart:hover {\n",
              "    background-color: var(--hover-bg-color);\n",
              "    box-shadow: 0 1px 2px rgba(60, 64, 67, 0.3), 0 1px 3px 1px rgba(60, 64, 67, 0.15);\n",
              "    fill: var(--button-hover-fill-color);\n",
              "  }\n",
              "\n",
              "  .colab-df-quickchart-complete:disabled,\n",
              "  .colab-df-quickchart-complete:disabled:hover {\n",
              "    background-color: var(--disabled-bg-color);\n",
              "    fill: var(--disabled-fill-color);\n",
              "    box-shadow: none;\n",
              "  }\n",
              "\n",
              "  .colab-df-spinner {\n",
              "    border: 2px solid var(--fill-color);\n",
              "    border-color: transparent;\n",
              "    border-bottom-color: var(--fill-color);\n",
              "    animation:\n",
              "      spin 1s steps(1) infinite;\n",
              "  }\n",
              "\n",
              "  @keyframes spin {\n",
              "    0% {\n",
              "      border-color: transparent;\n",
              "      border-bottom-color: var(--fill-color);\n",
              "      border-left-color: var(--fill-color);\n",
              "    }\n",
              "    20% {\n",
              "      border-color: transparent;\n",
              "      border-left-color: var(--fill-color);\n",
              "      border-top-color: var(--fill-color);\n",
              "    }\n",
              "    30% {\n",
              "      border-color: transparent;\n",
              "      border-left-color: var(--fill-color);\n",
              "      border-top-color: var(--fill-color);\n",
              "      border-right-color: var(--fill-color);\n",
              "    }\n",
              "    40% {\n",
              "      border-color: transparent;\n",
              "      border-right-color: var(--fill-color);\n",
              "      border-top-color: var(--fill-color);\n",
              "    }\n",
              "    60% {\n",
              "      border-color: transparent;\n",
              "      border-right-color: var(--fill-color);\n",
              "    }\n",
              "    80% {\n",
              "      border-color: transparent;\n",
              "      border-right-color: var(--fill-color);\n",
              "      border-bottom-color: var(--fill-color);\n",
              "    }\n",
              "    90% {\n",
              "      border-color: transparent;\n",
              "      border-bottom-color: var(--fill-color);\n",
              "    }\n",
              "  }\n",
              "</style>\n",
              "\n",
              "  <script>\n",
              "    async function quickchart(key) {\n",
              "      const quickchartButtonEl =\n",
              "        document.querySelector('#' + key + ' button');\n",
              "      quickchartButtonEl.disabled = true;  // To prevent multiple clicks.\n",
              "      quickchartButtonEl.classList.add('colab-df-spinner');\n",
              "      try {\n",
              "        const charts = await google.colab.kernel.invokeFunction(\n",
              "            'suggestCharts', [key], {});\n",
              "      } catch (error) {\n",
              "        console.error('Error during call to suggestCharts:', error);\n",
              "      }\n",
              "      quickchartButtonEl.classList.remove('colab-df-spinner');\n",
              "      quickchartButtonEl.classList.add('colab-df-quickchart-complete');\n",
              "    }\n",
              "    (() => {\n",
              "      let quickchartButtonEl =\n",
              "        document.querySelector('#df-395ddbcc-8be4-419e-ab0b-3e443bce3c67 button');\n",
              "      quickchartButtonEl.style.display =\n",
              "        google.colab.kernel.accessAllowed ? 'block' : 'none';\n",
              "    })();\n",
              "  </script>\n",
              "</div>\n",
              "\n",
              "    </div>\n",
              "  </div>\n"
            ],
            "application/vnd.google.colaboratory.intrinsic+json": {
              "type": "dataframe"
            }
          },
          "metadata": {},
          "execution_count": 30
        }
      ]
    },
    {
      "cell_type": "code",
      "source": [
        "plt.figure(figsize=(8, 6))\n",
        "sns.histplot(data_downsampled['SALE PRICE'], bins=30, kde=True)\n",
        "plt.title('Distribution of Sale Price')\n",
        "plt.xlabel('Sale Price')\n",
        "plt.ylabel('Frequency')\n",
        "plt.show()"
      ],
      "metadata": {
        "colab": {
          "base_uri": "https://localhost:8080/",
          "height": 573
        },
        "id": "4UJumjBoswxY",
        "outputId": "1cc59c99-2ffa-4bbb-c1d7-574ed84382c7"
      },
      "execution_count": 31,
      "outputs": [
        {
          "output_type": "display_data",
          "data": {
            "text/plain": [
              "<Figure size 800x600 with 1 Axes>"
            ],
            "image/png": "[encoded data removed]"
          },
          "metadata": {}
        }
      ]
    },
    {
      "cell_type": "markdown",
      "source": [
        "The reason why there is no missing data is because data that may be missing are objects; must convert to int in order to determine if there is missing data"
      ],
      "metadata": {
        "id": "TeM7mBYis38e"
      }
    },
    {
      "cell_type": "code",
      "source": [
        "#save the sample\n",
        "data_downsampled.to_csv('downsampled_data.csv', index=False)\n"
      ],
      "metadata": {
        "id": "8v79F_qxDnwc"
      },
      "execution_count": 32,
      "outputs": []
    },
    {
      "cell_type": "markdown",
      "metadata": {
        "id": "HvFrMzIGmMOl"
      },
      "source": [
        "#Task 5: Perform Data Cleaning"
      ]
    },
    {
      "cell_type": "markdown",
      "source": [
        "Drop missing values for price; this is what I am trying to predict."
      ],
      "metadata": {
        "id": "jfeGpNtGyVjT"
      }
    },
    {
      "cell_type": "code",
      "metadata": {
        "id": "S6cyPRAAmMLI"
      },
      "source": [],
      "execution_count": null,
      "outputs": []
    },
    {
      "cell_type": "markdown",
      "source": [
        "Convert necessary columns to integers from objects;\n",
        "Use get dummies to convert categories to integers.\n",
        "\n",
        "Convert date and price to numbers.\n",
        "\n",
        "BUILDING CLASS CATEGORY category\n",
        "\n",
        "BUILDING CLASS AT TIME OF SALE (category)\n",
        "\n",
        "LAND SQUARE FEET\n",
        "GROSS SQUARE FEET\n",
        "\n",
        "NEIGHBORHOOD  (category)\n",
        "\n",
        "SALE PRICE (convvert to int64)\n",
        "\n",
        "SALE DATE (Get year- Convert"
      ],
      "metadata": {
        "id": "-9ytf4F42f6M"
      }
    },
    {
      "cell_type": "code",
      "source": [
        "# Convert necessary columns to integers from objects\n",
        "data_downsampled['SALE PRICE'] = pd.to_numeric(data['SALE PRICE'], errors='coerce')\n",
        "data_downsampled['LAND SQUARE FEET'] = pd.to_numeric(data['LAND SQUARE FEET'], errors='coerce')\n",
        "data_downsampled['GROSS SQUARE FEET'] = pd.to_numeric(data['GROSS SQUARE FEET'], errors='coerce')\n"
      ],
      "metadata": {
        "id": "9X3zMCBOuyo6"
      },
      "execution_count": 33,
      "outputs": []
    },
    {
      "cell_type": "code",
      "source": [
        "# Check the information about the dataset after conversion\n",
        "print(data_downsampled.info())"
      ],
      "metadata": {
        "colab": {
          "base_uri": "https://localhost:8080/"
        },
        "id": "JNi-cbYqu_HF",
        "outputId": "715d3012-1b97-49f8-e189-cddaad819d17"
      },
      "execution_count": 34,
      "outputs": [
        {
          "output_type": "stream",
          "name": "stdout",
          "text": [
            "<class 'pandas.core.frame.DataFrame'>\n",
            "Index: 10000 entries, 69520 to 39656\n",
            "Data columns (total 22 columns):\n",
            " #   Column                          Non-Null Count  Dtype  \n",
            "---  ------                          --------------  -----  \n",
            " 0   Unnamed: 0                      10000 non-null  int64  \n",
            " 1   BOROUGH                         10000 non-null  int64  \n",
            " 2   NEIGHBORHOOD                    10000 non-null  object \n",
            " 3   BUILDING CLASS CATEGORY         10000 non-null  object \n",
            " 4   TAX CLASS AT PRESENT            10000 non-null  object \n",
            " 5   BLOCK                           10000 non-null  int64  \n",
            " 6   LOT                             10000 non-null  int64  \n",
            " 7   EASE-MENT                       10000 non-null  object \n",
            " 8   BUILDING CLASS AT PRESENT       10000 non-null  object \n",
            " 9   ADDRESS                         10000 non-null  object \n",
            " 10  APARTMENT NUMBER                10000 non-null  object \n",
            " 11  ZIP CODE                        10000 non-null  int64  \n",
            " 12  RESIDENTIAL UNITS               10000 non-null  int64  \n",
            " 13  COMMERCIAL UNITS                10000 non-null  int64  \n",
            " 14  TOTAL UNITS                     10000 non-null  int64  \n",
            " 15  LAND SQUARE FEET                6848 non-null   float64\n",
            " 16  GROSS SQUARE FEET               6698 non-null   float64\n",
            " 17  YEAR BUILT                      10000 non-null  int64  \n",
            " 18  TAX CLASS AT TIME OF SALE       10000 non-null  int64  \n",
            " 19  BUILDING CLASS AT TIME OF SALE  10000 non-null  object \n",
            " 20  SALE PRICE                      8294 non-null   float64\n",
            " 21  SALE DATE                       10000 non-null  object \n",
            "dtypes: float64(3), int64(10), object(9)\n",
            "memory usage: 1.8+ MB\n",
            "None\n"
          ]
        }
      ]
    },
    {
      "cell_type": "markdown",
      "source": [
        "CHANGE CATEGORICAL DATA TO NUMERICAL VALUES"
      ],
      "metadata": {
        "id": "WJp4BwdiwQzf"
      }
    },
    {
      "cell_type": "code",
      "source": [
        "##neighborhood= pd.get_dummies(data['NEIGHBORHOOD'], drop_first=True)\n",
        "#building_class_at_sale= pd.get_dummies(data['BUILDING CLASS AT TIME OF SALE'], drop_first=True)\n",
        "#building_category= pd.get_dummies(data['BUILDING CLASS CATEGORY'], drop_first=True)\n",
        "#gross_square_feet= pd.get_dummies(data['GROSS SQUARE FEET'], drop_first=True)\n",
        "##sale_price= pd.get_dummies(data['SALE PRICE'], drop_first=True)\n",
        "##sale_date= pd.get_dummies(data['SALE DATE'], drop_first=True)\n",
        "#easement= pd.get_dummies(data['EASE-MENT'], drop_first=True)\n",
        "data_downsampled = pd.get_dummies(data_downsampled, columns=['BOROUGH'])\n",
        "\n",
        "\n",
        "\n",
        "\n",
        "\n"
      ],
      "metadata": {
        "id": "ohjzNv1I4Xhr"
      },
      "execution_count": 35,
      "outputs": []
    },
    {
      "cell_type": "code",
      "source": [
        "data_downsampled=pd.get_dummies(data_downsampled, columns=['NEIGHBORHOOD'])\n"
      ],
      "metadata": {
        "id": "7xqqTbxow3pK"
      },
      "execution_count": 36,
      "outputs": []
    },
    {
      "cell_type": "code",
      "source": [
        "#check columns\n",
        "data_downsampled.columns"
      ],
      "metadata": {
        "colab": {
          "base_uri": "https://localhost:8080/"
        },
        "id": "3v_efbx4yDI8",
        "outputId": "d022a311-61ef-499e-87c7-8cc915570d12"
      },
      "execution_count": 38,
      "outputs": [
        {
          "output_type": "execute_result",
          "data": {
            "text/plain": [
              "Index(['Unnamed: 0', 'BUILDING CLASS CATEGORY', 'TAX CLASS AT PRESENT',\n",
              "       'BLOCK', 'LOT', 'EASE-MENT', 'BUILDING CLASS AT PRESENT', 'ADDRESS',\n",
              "       'APARTMENT NUMBER', 'ZIP CODE',\n",
              "       ...\n",
              "       'NEIGHBORHOOD_WILLIAMSBURG-EAST', 'NEIGHBORHOOD_WILLIAMSBURG-NORTH',\n",
              "       'NEIGHBORHOOD_WILLIAMSBURG-SOUTH', 'NEIGHBORHOOD_WILLOWBROOK',\n",
              "       'NEIGHBORHOOD_WINDSOR TERRACE', 'NEIGHBORHOOD_WOODHAVEN',\n",
              "       'NEIGHBORHOOD_WOODLAWN', 'NEIGHBORHOOD_WOODROW',\n",
              "       'NEIGHBORHOOD_WOODSIDE', 'NEIGHBORHOOD_WYCKOFF HEIGHTS'],\n",
              "      dtype='object', length=272)"
            ]
          },
          "metadata": {},
          "execution_count": 38
        }
      ]
    },
    {
      "cell_type": "code",
      "source": [
        "data_downsampled.isnull().values.any()"
      ],
      "metadata": {
        "colab": {
          "base_uri": "https://localhost:8080/"
        },
        "id": "OEDE2XButN-Z",
        "outputId": "570e70f0-dce0-4165-caa0-64956700687e"
      },
      "execution_count": 39,
      "outputs": [
        {
          "output_type": "execute_result",
          "data": {
            "text/plain": [
              "True"
            ]
          },
          "metadata": {},
          "execution_count": 39
        }
      ]
    },
    {
      "cell_type": "code",
      "source": [
        "# Fill in missing data (Example: filling missing 'SALE PRICE' with median)\n",
        "median_sale_price = data_downsampled['SALE PRICE'].median()\n",
        "data_downsampled['SALE PRICE'].fillna(median_sale_price, inplace=True)\n"
      ],
      "metadata": {
        "id": "g8ifDdyjx8Md"
      },
      "execution_count": 40,
      "outputs": []
    },
    {
      "cell_type": "code",
      "source": [
        "# Check for missing values after filling\n",
        "\n",
        "print(data_downsampled.isnull().sum())"
      ],
      "metadata": {
        "colab": {
          "base_uri": "https://localhost:8080/"
        },
        "id": "aqEP0WUpy8II",
        "outputId": "4f80fbed-be3b-48d4-b9b0-e267ef16606d"
      },
      "execution_count": 41,
      "outputs": [
        {
          "output_type": "stream",
          "name": "stdout",
          "text": [
            "Unnamed: 0                      0\n",
            "BUILDING CLASS CATEGORY         0\n",
            "TAX CLASS AT PRESENT            0\n",
            "BLOCK                           0\n",
            "LOT                             0\n",
            "                               ..\n",
            "NEIGHBORHOOD_WOODHAVEN          0\n",
            "NEIGHBORHOOD_WOODLAWN           0\n",
            "NEIGHBORHOOD_WOODROW            0\n",
            "NEIGHBORHOOD_WOODSIDE           0\n",
            "NEIGHBORHOOD_WYCKOFF HEIGHTS    0\n",
            "Length: 272, dtype: int64\n"
          ]
        }
      ]
    },
    {
      "cell_type": "code",
      "source": [
        "# Fill missing 'LAND SQUARE FEET' with mean\n",
        "mean_land_square_feet = data_downsampled['LAND SQUARE FEET'].mean()\n",
        "data_downsampled['LAND SQUARE FEET'].fillna(mean_land_square_feet, inplace=True)\n"
      ],
      "metadata": {
        "id": "g9kYFlGD0D-s"
      },
      "execution_count": 42,
      "outputs": []
    },
    {
      "cell_type": "code",
      "source": [
        "#Check for missing values after filling\n",
        "\n",
        "print(data_downsampled.isnull().sum())"
      ],
      "metadata": {
        "colab": {
          "base_uri": "https://localhost:8080/"
        },
        "id": "SUf2atGM0MD2",
        "outputId": "e12afd1b-7cf4-4769-fe85-f550ad65f676"
      },
      "execution_count": 43,
      "outputs": [
        {
          "output_type": "stream",
          "name": "stdout",
          "text": [
            "Unnamed: 0                      0\n",
            "BUILDING CLASS CATEGORY         0\n",
            "TAX CLASS AT PRESENT            0\n",
            "BLOCK                           0\n",
            "LOT                             0\n",
            "                               ..\n",
            "NEIGHBORHOOD_WOODHAVEN          0\n",
            "NEIGHBORHOOD_WOODLAWN           0\n",
            "NEIGHBORHOOD_WOODROW            0\n",
            "NEIGHBORHOOD_WOODSIDE           0\n",
            "NEIGHBORHOOD_WYCKOFF HEIGHTS    0\n",
            "Length: 272, dtype: int64\n"
          ]
        }
      ]
    },
    {
      "cell_type": "code",
      "source": [
        "data_downsampled.isnull().values.any()"
      ],
      "metadata": {
        "colab": {
          "base_uri": "https://localhost:8080/"
        },
        "id": "cCWKebcC0Te2",
        "outputId": "dc5bdbce-dc19-48a8-c95c-2cfc5b448644"
      },
      "execution_count": 44,
      "outputs": [
        {
          "output_type": "execute_result",
          "data": {
            "text/plain": [
              "True"
            ]
          },
          "metadata": {},
          "execution_count": 44
        }
      ]
    },
    {
      "cell_type": "code",
      "source": [
        "columns_to_drop = ['Unnamed: 0', 'TAX CLASS AT PRESENT', 'EASE-MENT',\n",
        "                   'BUILDING CLASS AT TIME OF SALE', 'LOT',\n",
        "                   'BUILDING CLASS AT PRESENT', 'APARTMENT NUMBER', 'ADDRESS']\n",
        "\n",
        "for col in columns_to_drop:\n",
        "    if col not in data_downsampled.columns:  # Check if column DOESN'T exist\n",
        "        print(f\"Column '{col}' not found in DataFrame.\")"
      ],
      "metadata": {
        "id": "3DpsJZ7qOS46"
      },
      "execution_count": 45,
      "outputs": []
    },
    {
      "cell_type": "code",
      "source": [
        "#Check to see if unnecessary columns have been dropped\n",
        "data_downsampled.head()"
      ],
      "metadata": {
        "colab": {
          "base_uri": "https://localhost:8080/",
          "height": 533
        },
        "id": "qEINOsuwWqfN",
        "outputId": "7e2cf154-4f7d-46bf-8c91-f935d61ca996"
      },
      "execution_count": 46,
      "outputs": [
        {
          "output_type": "execute_result",
          "data": {
            "text/plain": [
              "       Unnamed: 0                      BUILDING CLASS CATEGORY  \\\n",
              "69520       20122  10 COOPS - ELEVATOR APARTMENTS                \n",
              "76927         793  02 TWO FAMILY DWELLINGS                       \n",
              "82052        5918  01 ONE FAMILY DWELLINGS                       \n",
              "56261        6863  01 ONE FAMILY DWELLINGS                       \n",
              "61503       12105  10 COOPS - ELEVATOR APARTMENTS                \n",
              "\n",
              "      TAX CLASS AT PRESENT  BLOCK  LOT EASE-MENT BUILDING CLASS AT PRESENT  \\\n",
              "69520                    2   2093  245                                  D4   \n",
              "76927                    1   1644   31                                  B9   \n",
              "82052                    1   4399  184                                  A2   \n",
              "56261                    1   5204   41                                  A2   \n",
              "61503                    2   8489    1                                  D4   \n",
              "\n",
              "                              ADDRESS APARTMENT NUMBER  ZIP CODE  ...  \\\n",
              "69520            6155 98TH STREET, 1D                      11374  ...   \n",
              "76927                    8 ZECK COURT                      10314  ...   \n",
              "82052               289 WILDER AVENUE                      10306  ...   \n",
              "56261              45-45 SMART STREET                      11355  ...   \n",
              "61503  27110 GRAND CENTRAL PARKWA, 2C                      11005  ...   \n",
              "\n",
              "       NEIGHBORHOOD_WILLIAMSBURG-EAST  NEIGHBORHOOD_WILLIAMSBURG-NORTH  \\\n",
              "69520                           False                            False   \n",
              "76927                           False                            False   \n",
              "82052                           False                            False   \n",
              "56261                           False                            False   \n",
              "61503                           False                            False   \n",
              "\n",
              "       NEIGHBORHOOD_WILLIAMSBURG-SOUTH  NEIGHBORHOOD_WILLOWBROOK  \\\n",
              "69520                            False                     False   \n",
              "76927                            False                     False   \n",
              "82052                            False                     False   \n",
              "56261                            False                     False   \n",
              "61503                            False                     False   \n",
              "\n",
              "       NEIGHBORHOOD_WINDSOR TERRACE  NEIGHBORHOOD_WOODHAVEN  \\\n",
              "69520                         False                   False   \n",
              "76927                         False                   False   \n",
              "82052                         False                   False   \n",
              "56261                         False                   False   \n",
              "61503                         False                   False   \n",
              "\n",
              "       NEIGHBORHOOD_WOODLAWN NEIGHBORHOOD_WOODROW  NEIGHBORHOOD_WOODSIDE  \\\n",
              "69520                  False                False                  False   \n",
              "76927                  False                False                  False   \n",
              "82052                  False                False                  False   \n",
              "56261                  False                False                  False   \n",
              "61503                  False                False                  False   \n",
              "\n",
              "      NEIGHBORHOOD_WYCKOFF HEIGHTS  \n",
              "69520                        False  \n",
              "76927                        False  \n",
              "82052                        False  \n",
              "56261                        False  \n",
              "61503                        False  \n",
              "\n",
              "[5 rows x 272 columns]"
            ],
            "text/html": [
              "\n",
              "  <div id=\"df-0e328c1f-b4aa-43f1-8e02-71119a6f49a7\" class=\"colab-df-container\">\n",
              "    <div>\n",
              "<style scoped>\n",
              "    .dataframe tbody tr th:only-of-type {\n",
              "        vertical-align: middle;\n",
              "    }\n",
              "\n",
              "    .dataframe tbody tr th {\n",
              "        vertical-align: top;\n",
              "    }\n",
              "\n",
              "    .dataframe thead th {\n",
              "        text-align: right;\n",
              "    }\n",
              "</style>\n",
              "<table border=\"1\" class=\"dataframe\">\n",
              "  <thead>\n",
              "    <tr style=\"text-align: right;\">\n",
              "      <th></th>\n",
              "      <th>Unnamed: 0</th>\n",
              "      <th>BUILDING CLASS CATEGORY</th>\n",
              "      <th>TAX CLASS AT PRESENT</th>\n",
              "      <th>BLOCK</th>\n",
              "      <th>LOT</th>\n",
              "      <th>EASE-MENT</th>\n",
              "      <th>BUILDING CLASS AT PRESENT</th>\n",
              "      <th>ADDRESS</th>\n",
              "      <th>APARTMENT NUMBER</th>\n",
              "      <th>ZIP CODE</th>\n",
              "      <th>...</th>\n",
              "      <th>NEIGHBORHOOD_WILLIAMSBURG-EAST</th>\n",
              "      <th>NEIGHBORHOOD_WILLIAMSBURG-NORTH</th>\n",
              "      <th>NEIGHBORHOOD_WILLIAMSBURG-SOUTH</th>\n",
              "      <th>NEIGHBORHOOD_WILLOWBROOK</th>\n",
              "      <th>NEIGHBORHOOD_WINDSOR TERRACE</th>\n",
              "      <th>NEIGHBORHOOD_WOODHAVEN</th>\n",
              "      <th>NEIGHBORHOOD_WOODLAWN</th>\n",
              "      <th>NEIGHBORHOOD_WOODROW</th>\n",
              "      <th>NEIGHBORHOOD_WOODSIDE</th>\n",
              "      <th>NEIGHBORHOOD_WYCKOFF HEIGHTS</th>\n",
              "    </tr>\n",
              "  </thead>\n",
              "  <tbody>\n",
              "    <tr>\n",
              "      <th>69520</th>\n",
              "      <td>20122</td>\n",
              "      <td>10 COOPS - ELEVATOR APARTMENTS</td>\n",
              "      <td>2</td>\n",
              "      <td>2093</td>\n",
              "      <td>245</td>\n",
              "      <td></td>\n",
              "      <td>D4</td>\n",
              "      <td>6155 98TH STREET, 1D</td>\n",
              "      <td></td>\n",
              "      <td>11374</td>\n",
              "      <td>...</td>\n",
              "      <td>False</td>\n",
              "      <td>False</td>\n",
              "      <td>False</td>\n",
              "      <td>False</td>\n",
              "      <td>False</td>\n",
              "      <td>False</td>\n",
              "      <td>False</td>\n",
              "      <td>False</td>\n",
              "      <td>False</td>\n",
              "      <td>False</td>\n",
              "    </tr>\n",
              "    <tr>\n",
              "      <th>76927</th>\n",
              "      <td>793</td>\n",
              "      <td>02 TWO FAMILY DWELLINGS</td>\n",
              "      <td>1</td>\n",
              "      <td>1644</td>\n",
              "      <td>31</td>\n",
              "      <td></td>\n",
              "      <td>B9</td>\n",
              "      <td>8 ZECK COURT</td>\n",
              "      <td></td>\n",
              "      <td>10314</td>\n",
              "      <td>...</td>\n",
              "      <td>False</td>\n",
              "      <td>False</td>\n",
              "      <td>False</td>\n",
              "      <td>False</td>\n",
              "      <td>False</td>\n",
              "      <td>False</td>\n",
              "      <td>False</td>\n",
              "      <td>False</td>\n",
              "      <td>False</td>\n",
              "      <td>False</td>\n",
              "    </tr>\n",
              "    <tr>\n",
              "      <th>82052</th>\n",
              "      <td>5918</td>\n",
              "      <td>01 ONE FAMILY DWELLINGS</td>\n",
              "      <td>1</td>\n",
              "      <td>4399</td>\n",
              "      <td>184</td>\n",
              "      <td></td>\n",
              "      <td>A2</td>\n",
              "      <td>289 WILDER AVENUE</td>\n",
              "      <td></td>\n",
              "      <td>10306</td>\n",
              "      <td>...</td>\n",
              "      <td>False</td>\n",
              "      <td>False</td>\n",
              "      <td>False</td>\n",
              "      <td>False</td>\n",
              "      <td>False</td>\n",
              "      <td>False</td>\n",
              "      <td>False</td>\n",
              "      <td>False</td>\n",
              "      <td>False</td>\n",
              "      <td>False</td>\n",
              "    </tr>\n",
              "    <tr>\n",
              "      <th>56261</th>\n",
              "      <td>6863</td>\n",
              "      <td>01 ONE FAMILY DWELLINGS</td>\n",
              "      <td>1</td>\n",
              "      <td>5204</td>\n",
              "      <td>41</td>\n",
              "      <td></td>\n",
              "      <td>A2</td>\n",
              "      <td>45-45 SMART STREET</td>\n",
              "      <td></td>\n",
              "      <td>11355</td>\n",
              "      <td>...</td>\n",
              "      <td>False</td>\n",
              "      <td>False</td>\n",
              "      <td>False</td>\n",
              "      <td>False</td>\n",
              "      <td>False</td>\n",
              "      <td>False</td>\n",
              "      <td>False</td>\n",
              "      <td>False</td>\n",
              "      <td>False</td>\n",
              "      <td>False</td>\n",
              "    </tr>\n",
              "    <tr>\n",
              "      <th>61503</th>\n",
              "      <td>12105</td>\n",
              "      <td>10 COOPS - ELEVATOR APARTMENTS</td>\n",
              "      <td>2</td>\n",
              "      <td>8489</td>\n",
              "      <td>1</td>\n",
              "      <td></td>\n",
              "      <td>D4</td>\n",
              "      <td>27110 GRAND CENTRAL PARKWA, 2C</td>\n",
              "      <td></td>\n",
              "      <td>11005</td>\n",
              "      <td>...</td>\n",
              "      <td>False</td>\n",
              "      <td>False</td>\n",
              "      <td>False</td>\n",
              "      <td>False</td>\n",
              "      <td>False</td>\n",
              "      <td>False</td>\n",
              "      <td>False</td>\n",
              "      <td>False</td>\n",
              "      <td>False</td>\n",
              "      <td>False</td>\n",
              "    </tr>\n",
              "  </tbody>\n",
              "</table>\n",
              "<p>5 rows × 272 columns</p>\n",
              "</div>\n",
              "    <div class=\"colab-df-buttons\">\n",
              "\n",
              "  <div class=\"colab-df-container\">\n",
              "    <button class=\"colab-df-convert\" onclick=\"convertToInteractive('df-0e328c1f-b4aa-43f1-8e02-71119a6f49a7')\"\n",
              "            title=\"Convert this dataframe to an interactive table.\"\n",
              "            style=\"display:none;\">\n",
              "\n",
              "  <svg xmlns=\"http://www.w3.org/2000/svg\" height=\"24px\" viewBox=\"0 -960 960 960\">\n",
              "    <path d=\"M120-120v-720h720v720H120Zm60-500h600v-160H180v160Zm220 220h160v-160H400v160Zm0 220h160v-160H400v160ZM180-400h160v-160H180v160Zm440 0h160v-160H620v160ZM180-180h160v-160H180v160Zm440 0h160v-160H620v160Z\"/>\n",
              "  </svg>\n",
              "    </button>\n",
              "\n",
              "  <style>\n",
              "    .colab-df-container {\n",
              "      display:flex;\n",
              "      gap: 12px;\n",
              "    }\n",
              "\n",
              "    .colab-df-convert {\n",
              "      background-color: #E8F0FE;\n",
              "      border: none;\n",
              "      border-radius: 50%;\n",
              "      cursor: pointer;\n",
              "      display: none;\n",
              "      fill: #1967D2;\n",
              "      height: 32px;\n",
              "      padding: 0 0 0 0;\n",
              "      width: 32px;\n",
              "    }\n",
              "\n",
              "    .colab-df-convert:hover {\n",
              "      background-color: #E2EBFA;\n",
              "      box-shadow: 0px 1px 2px rgba(60, 64, 67, 0.3), 0px 1px 3px 1px rgba(60, 64, 67, 0.15);\n",
              "      fill: #174EA6;\n",
              "    }\n",
              "\n",
              "    .colab-df-buttons div {\n",
              "      margin-bottom: 4px;\n",
              "    }\n",
              "\n",
              "    [theme=dark] .colab-df-convert {\n",
              "      background-color: #3B4455;\n",
              "      fill: #D2E3FC;\n",
              "    }\n",
              "\n",
              "    [theme=dark] .colab-df-convert:hover {\n",
              "      background-color: #434B5C;\n",
              "      box-shadow: 0px 1px 3px 1px rgba(0, 0, 0, 0.15);\n",
              "      filter: drop-shadow(0px 1px 2px rgba(0, 0, 0, 0.3));\n",
              "      fill: #FFFFFF;\n",
              "    }\n",
              "  </style>\n",
              "\n",
              "    <script>\n",
              "      const buttonEl =\n",
              "        document.querySelector('#df-0e328c1f-b4aa-43f1-8e02-71119a6f49a7 button.colab-df-convert');\n",
              "      buttonEl.style.display =\n",
              "        google.colab.kernel.accessAllowed ? 'block' : 'none';\n",
              "\n",
              "      async function convertToInteractive(key) {\n",
              "        const element = document.querySelector('#df-0e328c1f-b4aa-43f1-8e02-71119a6f49a7');\n",
              "        const dataTable =\n",
              "          await google.colab.kernel.invokeFunction('convertToInteractive',\n",
              "                                                    [key], {});\n",
              "        if (!dataTable) return;\n",
              "\n",
              "        const docLinkHtml = 'Like what you see? Visit the ' +\n",
              "          '<a target=\"_blank\" href=https://colab.research.google.com/notebooks/data_table.ipynb>data table notebook</a>'\n",
              "          + ' to learn more about interactive tables.';\n",
              "        element.innerHTML = '';\n",
              "        dataTable['output_type'] = 'display_data';\n",
              "        await google.colab.output.renderOutput(dataTable, element);\n",
              "        const docLink = document.createElement('div');\n",
              "        docLink.innerHTML = docLinkHtml;\n",
              "        element.appendChild(docLink);\n",
              "      }\n",
              "    </script>\n",
              "  </div>\n",
              "\n",
              "\n",
              "<div id=\"df-27b15470-47bf-4958-ae9f-db03b8828a1c\">\n",
              "  <button class=\"colab-df-quickchart\" onclick=\"quickchart('df-27b15470-47bf-4958-ae9f-db03b8828a1c')\"\n",
              "            title=\"Suggest charts\"\n",
              "            style=\"display:none;\">\n",
              "\n",
              "<svg xmlns=\"http://www.w3.org/2000/svg\" height=\"24px\"viewBox=\"0 0 24 24\"\n",
              "     width=\"24px\">\n",
              "    <g>\n",
              "        <path d=\"M19 3H5c-1.1 0-2 .9-2 2v14c0 1.1.9 2 2 2h14c1.1 0 2-.9 2-2V5c0-1.1-.9-2-2-2zM9 17H7v-7h2v7zm4 0h-2V7h2v10zm4 0h-2v-4h2v4z\"/>\n",
              "    </g>\n",
              "</svg>\n",
              "  </button>\n",
              "\n",
              "<style>\n",
              "  .colab-df-quickchart {\n",
              "      --bg-color: #E8F0FE;\n",
              "      --fill-color: #1967D2;\n",
              "      --hover-bg-color: #E2EBFA;\n",
              "      --hover-fill-color: #174EA6;\n",
              "      --disabled-fill-color: #AAA;\n",
              "      --disabled-bg-color: #DDD;\n",
              "  }\n",
              "\n",
              "  [theme=dark] .colab-df-quickchart {\n",
              "      --bg-color: #3B4455;\n",
              "      --fill-color: #D2E3FC;\n",
              "      --hover-bg-color: #434B5C;\n",
              "      --hover-fill-color: #FFFFFF;\n",
              "      --disabled-bg-color: #3B4455;\n",
              "      --disabled-fill-color: #666;\n",
              "  }\n",
              "\n",
              "  .colab-df-quickchart {\n",
              "    background-color: var(--bg-color);\n",
              "    border: none;\n",
              "    border-radius: 50%;\n",
              "    cursor: pointer;\n",
              "    display: none;\n",
              "    fill: var(--fill-color);\n",
              "    height: 32px;\n",
              "    padding: 0;\n",
              "    width: 32px;\n",
              "  }\n",
              "\n",
              "  .colab-df-quickchart:hover {\n",
              "    background-color: var(--hover-bg-color);\n",
              "    box-shadow: 0 1px 2px rgba(60, 64, 67, 0.3), 0 1px 3px 1px rgba(60, 64, 67, 0.15);\n",
              "    fill: var(--button-hover-fill-color);\n",
              "  }\n",
              "\n",
              "  .colab-df-quickchart-complete:disabled,\n",
              "  .colab-df-quickchart-complete:disabled:hover {\n",
              "    background-color: var(--disabled-bg-color);\n",
              "    fill: var(--disabled-fill-color);\n",
              "    box-shadow: none;\n",
              "  }\n",
              "\n",
              "  .colab-df-spinner {\n",
              "    border: 2px solid var(--fill-color);\n",
              "    border-color: transparent;\n",
              "    border-bottom-color: var(--fill-color);\n",
              "    animation:\n",
              "      spin 1s steps(1) infinite;\n",
              "  }\n",
              "\n",
              "  @keyframes spin {\n",
              "    0% {\n",
              "      border-color: transparent;\n",
              "      border-bottom-color: var(--fill-color);\n",
              "      border-left-color: var(--fill-color);\n",
              "    }\n",
              "    20% {\n",
              "      border-color: transparent;\n",
              "      border-left-color: var(--fill-color);\n",
              "      border-top-color: var(--fill-color);\n",
              "    }\n",
              "    30% {\n",
              "      border-color: transparent;\n",
              "      border-left-color: var(--fill-color);\n",
              "      border-top-color: var(--fill-color);\n",
              "      border-right-color: var(--fill-color);\n",
              "    }\n",
              "    40% {\n",
              "      border-color: transparent;\n",
              "      border-right-color: var(--fill-color);\n",
              "      border-top-color: var(--fill-color);\n",
              "    }\n",
              "    60% {\n",
              "      border-color: transparent;\n",
              "      border-right-color: var(--fill-color);\n",
              "    }\n",
              "    80% {\n",
              "      border-color: transparent;\n",
              "      border-right-color: var(--fill-color);\n",
              "      border-bottom-color: var(--fill-color);\n",
              "    }\n",
              "    90% {\n",
              "      border-color: transparent;\n",
              "      border-bottom-color: var(--fill-color);\n",
              "    }\n",
              "  }\n",
              "</style>\n",
              "\n",
              "  <script>\n",
              "    async function quickchart(key) {\n",
              "      const quickchartButtonEl =\n",
              "        document.querySelector('#' + key + ' button');\n",
              "      quickchartButtonEl.disabled = true;  // To prevent multiple clicks.\n",
              "      quickchartButtonEl.classList.add('colab-df-spinner');\n",
              "      try {\n",
              "        const charts = await google.colab.kernel.invokeFunction(\n",
              "            'suggestCharts', [key], {});\n",
              "      } catch (error) {\n",
              "        console.error('Error during call to suggestCharts:', error);\n",
              "      }\n",
              "      quickchartButtonEl.classList.remove('colab-df-spinner');\n",
              "      quickchartButtonEl.classList.add('colab-df-quickchart-complete');\n",
              "    }\n",
              "    (() => {\n",
              "      let quickchartButtonEl =\n",
              "        document.querySelector('#df-27b15470-47bf-4958-ae9f-db03b8828a1c button');\n",
              "      quickchartButtonEl.style.display =\n",
              "        google.colab.kernel.accessAllowed ? 'block' : 'none';\n",
              "    })();\n",
              "  </script>\n",
              "</div>\n",
              "\n",
              "    </div>\n",
              "  </div>\n"
            ],
            "application/vnd.google.colaboratory.intrinsic+json": {
              "type": "dataframe",
              "variable_name": "data_downsampled"
            }
          },
          "metadata": {},
          "execution_count": 46
        }
      ]
    },
    {
      "cell_type": "code",
      "source": [
        "# Check for missing data in each column\n",
        "missing_data = data_downsampled.isnull().sum()\n",
        "\n",
        "print(\"Columns with missing data:\")\n",
        "print(missing_data[missing_data > 0])"
      ],
      "metadata": {
        "id": "GfeOYMOo9kPI",
        "colab": {
          "base_uri": "https://localhost:8080/"
        },
        "outputId": "a2a0611b-83e1-473f-e548-eb0577b6bf27"
      },
      "execution_count": 47,
      "outputs": [
        {
          "output_type": "stream",
          "name": "stdout",
          "text": [
            "Columns with missing data:\n",
            "GROSS SQUARE FEET    3302\n",
            "dtype: int64\n"
          ]
        }
      ]
    },
    {
      "cell_type": "code",
      "source": [
        "# Fill in missing data\n",
        "median_gross_square_feet = data_downsampled['GROSS SQUARE FEET'].median()\n",
        "data_downsampled['GROSS SQUARE FEET'].fillna(median_gross_square_feet, inplace=True)"
      ],
      "metadata": {
        "id": "zZqRLO091LUs"
      },
      "execution_count": 48,
      "outputs": []
    },
    {
      "cell_type": "code",
      "source": [
        "# Check for missing data in each column\n",
        "missing_data = data_downsampled.isnull().sum()\n",
        "\n",
        "print(\"Columns with missing data:\")\n",
        "print(missing_data[missing_data > 0])"
      ],
      "metadata": {
        "colab": {
          "base_uri": "https://localhost:8080/"
        },
        "id": "cZ3gkxGR10V1",
        "outputId": "47b84e27-3eea-4e79-eece-3a399d0315a7"
      },
      "execution_count": 49,
      "outputs": [
        {
          "output_type": "stream",
          "name": "stdout",
          "text": [
            "Columns with missing data:\n",
            "Series([], dtype: int64)\n"
          ]
        }
      ]
    },
    {
      "cell_type": "code",
      "source": [
        "# Identify columns with missing data\n",
        "columns_with_missing = missing_data[missing_data > 0].index.tolist()\n",
        "\n",
        "# Drop rows where any of the specified columns have missing data\n",
        "data_clean = data_downsampled.dropna(subset=columns_with_missing)\n",
        "\n",
        "# Display information about the cleaned DataFrame\n",
        "print(f\"Original DataFrame shape: {data_downsampled.shape}\")\n",
        "print(f\"Cleaned DataFrame shape: {data_clean.shape}\")"
      ],
      "metadata": {
        "id": "2kDf0M1EPsi4",
        "colab": {
          "base_uri": "https://localhost:8080/"
        },
        "outputId": "3fd796c4-9971-4457-d760-a1696839817f"
      },
      "execution_count": 50,
      "outputs": [
        {
          "output_type": "stream",
          "name": "stdout",
          "text": [
            "Original DataFrame shape: (10000, 272)\n",
            "Cleaned DataFrame shape: (10000, 272)\n"
          ]
        }
      ]
    },
    {
      "cell_type": "code",
      "source": [
        "# reCheck for missing data in each column\n",
        "missing_data = data_clean.isnull().sum()\n",
        "\n",
        "print(\"Columns with missing data:\")\n",
        "print(missing_data[missing_data > 0])"
      ],
      "metadata": {
        "id": "glEIJuvVP61J",
        "colab": {
          "base_uri": "https://localhost:8080/"
        },
        "outputId": "be89ddb1-67dc-451e-a409-7957d864360c"
      },
      "execution_count": 51,
      "outputs": [
        {
          "output_type": "stream",
          "name": "stdout",
          "text": [
            "Columns with missing data:\n",
            "Series([], dtype: int64)\n"
          ]
        }
      ]
    },
    {
      "cell_type": "code",
      "source": [
        "data_clean.info()"
      ],
      "metadata": {
        "colab": {
          "base_uri": "https://localhost:8080/"
        },
        "id": "6U_1ypK64mt_",
        "outputId": "dc8bd2df-bf41-4c5b-becf-7e30982a6ed8"
      },
      "execution_count": 52,
      "outputs": [
        {
          "output_type": "stream",
          "name": "stdout",
          "text": [
            "<class 'pandas.core.frame.DataFrame'>\n",
            "Index: 10000 entries, 69520 to 39656\n",
            "Columns: 272 entries, Unnamed: 0 to NEIGHBORHOOD_WYCKOFF HEIGHTS\n",
            "dtypes: bool(252), float64(3), int64(9), object(8)\n",
            "memory usage: 4.0+ MB\n"
          ]
        }
      ]
    },
    {
      "cell_type": "code",
      "source": [
        "#what columns are still objects?\n",
        "object_columns = data_clean.select_dtypes(include=['object']).columns\n",
        "\n",
        "# Print the columns of type 'object'\n",
        "print(\"Columns of type 'object':\")\n",
        "for col in object_columns:\n",
        "    print(col)"
      ],
      "metadata": {
        "colab": {
          "base_uri": "https://localhost:8080/"
        },
        "id": "T2HWJa6w5AXp",
        "outputId": "e5fe6c9e-f398-4a02-dc13-f6fb855e725c"
      },
      "execution_count": 53,
      "outputs": [
        {
          "output_type": "stream",
          "name": "stdout",
          "text": [
            "Columns of type 'object':\n",
            "BUILDING CLASS CATEGORY\n",
            "TAX CLASS AT PRESENT\n",
            "EASE-MENT\n",
            "BUILDING CLASS AT PRESENT\n",
            "ADDRESS\n",
            "APARTMENT NUMBER\n",
            "BUILDING CLASS AT TIME OF SALE\n",
            "SALE DATE\n"
          ]
        }
      ]
    },
    {
      "cell_type": "code",
      "source": [
        "#I need to drop columns that are objects and unnecesary.\n",
        "columns_to_drop2 = ['BUILDING CLASS CATEGORY','TAX CLASS AT PRESENT',\n",
        "                   'EASE-MENT', 'APARTMENT NUMBER', 'ADDRESS', 'BUILDING CLASS AT TIME OF SALE','SALE DATE']\n",
        "\n",
        "for col in columns_to_drop2:\n",
        "    if col not in data_clean.columns:  # Check if column DOESN'T exist\n",
        "        print(f\"Column '{col}' not found in DataFrame.\")\n"
      ],
      "metadata": {
        "id": "tskr2J3Q5YJa"
      },
      "execution_count": 54,
      "outputs": []
    },
    {
      "cell_type": "code",
      "source": [
        "#what columns are still objects?\n",
        "object_columns = data_clean.select_dtypes(include=['object']).columns\n",
        "\n",
        "# Print the columns of type 'object'\n",
        "print(\"Columns of type 'object':\")\n",
        "for col in object_columns:\n",
        "    print(col)"
      ],
      "metadata": {
        "colab": {
          "base_uri": "https://localhost:8080/"
        },
        "id": "LKak1siq6X0E",
        "outputId": "eda0ba1a-8c4a-40e9-b3a5-2a3cd9f2aa4f"
      },
      "execution_count": 56,
      "outputs": [
        {
          "output_type": "stream",
          "name": "stdout",
          "text": [
            "Columns of type 'object':\n",
            "BUILDING CLASS CATEGORY\n",
            "TAX CLASS AT PRESENT\n",
            "EASE-MENT\n",
            "BUILDING CLASS AT PRESENT\n",
            "ADDRESS\n",
            "APARTMENT NUMBER\n",
            "BUILDING CLASS AT TIME OF SALE\n",
            "SALE DATE\n"
          ]
        }
      ]
    },
    {
      "cell_type": "code",
      "source": [
        "# List of columns to drop\n",
        "columns_to_drop = [\n",
        "    'BUILDING CLASS CATEGORY',\n",
        "    'TAX CLASS AT PRESENT',\n",
        "    'EASE-MENT',\n",
        "    'BUILDING CLASS AT PRESENT',\n",
        "    'ADDRESS',\n",
        "    'APARTMENT NUMBER',\n",
        "    'BUILDING CLASS AT TIME OF SALE',\n",
        "    'SALE DATE']\n",
        "\n",
        "    # Drop columns\n",
        "data_clean.drop(columns=columns_to_drop, inplace=True)\n",
        "\n"
      ],
      "metadata": {
        "id": "oZ1mshJW70hR"
      },
      "execution_count": 57,
      "outputs": []
    },
    {
      "cell_type": "code",
      "source": [
        "# Print first few rows to verify\n",
        "print(data.head())"
      ],
      "metadata": {
        "colab": {
          "base_uri": "https://localhost:8080/"
        },
        "id": "29tJwC568n9t",
        "outputId": "6ba8fa64-ef88-4d39-b30a-606115a9f121"
      },
      "execution_count": 58,
      "outputs": [
        {
          "output_type": "stream",
          "name": "stdout",
          "text": [
            "   Unnamed: 0  BOROUGH   NEIGHBORHOOD  \\\n",
            "0           4        1  ALPHABET CITY   \n",
            "1           5        1  ALPHABET CITY   \n",
            "2           6        1  ALPHABET CITY   \n",
            "3           7        1  ALPHABET CITY   \n",
            "4           8        1  ALPHABET CITY   \n",
            "\n",
            "                       BUILDING CLASS CATEGORY TAX CLASS AT PRESENT  BLOCK  \\\n",
            "0  07 RENTALS - WALKUP APARTMENTS                                2A    392   \n",
            "1  07 RENTALS - WALKUP APARTMENTS                                 2    399   \n",
            "2  07 RENTALS - WALKUP APARTMENTS                                 2    399   \n",
            "3  07 RENTALS - WALKUP APARTMENTS                                2B    402   \n",
            "4  07 RENTALS - WALKUP APARTMENTS                                2A    404   \n",
            "\n",
            "   LOT EASE-MENT BUILDING CLASS AT PRESENT                 ADDRESS  ...  \\\n",
            "0    6                                  C2            153 AVENUE B  ...   \n",
            "1   26                                  C7   234 EAST 4TH   STREET  ...   \n",
            "2   39                                  C7   197 EAST 3RD   STREET  ...   \n",
            "3   21                                  C4     154 EAST 7TH STREET  ...   \n",
            "4   55                                  C2  301 EAST 10TH   STREET  ...   \n",
            "\n",
            "  RESIDENTIAL UNITS  COMMERCIAL UNITS  TOTAL UNITS  LAND SQUARE FEET  \\\n",
            "0                 5                 0            5              1633   \n",
            "1                28                 3           31              4616   \n",
            "2                16                 1           17              2212   \n",
            "3                10                 0           10              2272   \n",
            "4                 6                 0            6              2369   \n",
            "\n",
            "   GROSS SQUARE FEET YEAR BUILT TAX CLASS AT TIME OF SALE  \\\n",
            "0               6440       1900                         2   \n",
            "1              18690       1900                         2   \n",
            "2               7803       1900                         2   \n",
            "3               6794       1913                         2   \n",
            "4               4615       1900                         2   \n",
            "\n",
            "   BUILDING CLASS AT TIME OF SALE  SALE PRICE            SALE DATE  \n",
            "0                              C2     6625000  2017-07-19 00:00:00  \n",
            "1                              C7         -    2016-12-14 00:00:00  \n",
            "2                              C7         -    2016-12-09 00:00:00  \n",
            "3                              C4     3936272  2016-09-23 00:00:00  \n",
            "4                              C2     8000000  2016-11-17 00:00:00  \n",
            "\n",
            "[5 rows x 22 columns]\n"
          ]
        }
      ]
    },
    {
      "cell_type": "markdown",
      "source": [
        "## **NOW USE data_clean**\n",
        "for the training and testing"
      ],
      "metadata": {
        "id": "X_bBTt59QJZe"
      }
    },
    {
      "cell_type": "code",
      "source": [
        "# Check for missing data in each column\n",
        "#missing_data = data2.isnull().sum()\n",
        "\n",
        "print(\"Columns with missing data:\")\n",
        "print(missing_data[missing_data > 0])"
      ],
      "metadata": {
        "id": "NxDHncO299Bs",
        "colab": {
          "base_uri": "https://localhost:8080/"
        },
        "outputId": "03f7ffa4-ba77-4a14-9f08-95aa0078b8c4"
      },
      "execution_count": 59,
      "outputs": [
        {
          "output_type": "stream",
          "name": "stdout",
          "text": [
            "Columns with missing data:\n",
            "Series([], dtype: int64)\n"
          ]
        }
      ]
    },
    {
      "cell_type": "markdown",
      "source": [],
      "metadata": {
        "id": "Png6lsIc9evA"
      }
    },
    {
      "cell_type": "markdown",
      "metadata": {
        "id": "nNu-6-3emMH5"
      },
      "source": [
        "#Task 6: Visualize Cleaned up Dataset"
      ]
    },
    {
      "cell_type": "code",
      "source": [
        "sns.heatmap(data_clean.isnull(), yticklabels = False, cbar = False, cmap = 'viridis')"
      ],
      "metadata": {
        "id": "H3LuyoeW8N0j",
        "colab": {
          "base_uri": "https://localhost:8080/",
          "height": 810
        },
        "outputId": "aa776694-9a40-47a2-dc00-f39f653e25b5"
      },
      "execution_count": 60,
      "outputs": [
        {
          "output_type": "execute_result",
          "data": {
            "text/plain": [
              "<Axes: >"
            ]
          },
          "metadata": {},
          "execution_count": 60
        },
        {
          "output_type": "display_data",
          "data": {
            "text/plain": [
              "<Figure size 640x480 with 1 Axes>"
            ],
            "image/png": "[encoded data removed]"
          },
          "metadata": {}
        }
      ]
    },
    {
      "cell_type": "markdown",
      "metadata": {
        "id": "4k8nJyFemMBY"
      },
      "source": [
        "#Task 7: Conceptualize the problem"
      ]
    },
    {
      "cell_type": "markdown",
      "source": [
        "Predciting the price of real estate based on various factors\n"
      ],
      "metadata": {
        "id": "LkXBEgK9RYKE"
      }
    },
    {
      "cell_type": "code",
      "metadata": {
        "id": "gu4nQbmQm9z8"
      },
      "source": [],
      "execution_count": null,
      "outputs": []
    },
    {
      "cell_type": "markdown",
      "metadata": {
        "id": "E9xy8hetm9wG"
      },
      "source": [
        "#Task 8: Perform Data-Split"
      ]
    },
    {
      "cell_type": "code",
      "metadata": {
        "id": "Swr_A0p1m9r6"
      },
      "source": [
        "X = data_clean.drop('SALE PRICE', axis=1)  # Features\n",
        "y = data_clean['SALE PRICE']  # Target variable"
      ],
      "execution_count": 61,
      "outputs": []
    },
    {
      "cell_type": "code",
      "source": [
        "from sklearn.model_selection import train_test_split\n",
        "X_train, X_test, y_train, y_test = train_test_split(data_clean.drop('SALE PRICE',axis=1), data_clean['SALE PRICE'], test_size=0.25, random_state=101) # X --> df.drop('Survived',axis=1), Y --> df['Survived'"
      ],
      "metadata": {
        "id": "7d5LSlj83AFh"
      },
      "execution_count": 62,
      "outputs": []
    },
    {
      "cell_type": "code",
      "source": [
        "# Print shapes of the datasets to confirm the split\n",
        "print(\"Shape of X_train:\", X_train.shape)\n",
        "print(\"Shape of X_test:\", X_test.shape)\n",
        "print(\"Shape of y_train:\", y_train.shape)\n",
        "print(\"Shape of y_test:\", y_test.shape)"
      ],
      "metadata": {
        "colab": {
          "base_uri": "https://localhost:8080/"
        },
        "id": "lEac8WPg34YX",
        "outputId": "0d55adad-15c1-4dd7-e8fb-ddcf41a7cfd2"
      },
      "execution_count": 63,
      "outputs": [
        {
          "output_type": "stream",
          "name": "stdout",
          "text": [
            "Shape of X_train: (7500, 263)\n",
            "Shape of X_test: (2500, 263)\n",
            "Shape of y_train: (7500,)\n",
            "Shape of y_test: (2500,)\n"
          ]
        }
      ]
    },
    {
      "cell_type": "markdown",
      "metadata": {
        "id": "CCJo3OYWm9oQ"
      },
      "source": [
        "#Task 9: Choose the ML Method to follow"
      ]
    },
    {
      "cell_type": "code",
      "metadata": {
        "id": "7UJWBSspm9lM"
      },
      "source": [
        "from sklearn.linear_model import LogisticRegression\n",
        "from sklearn.preprocessing import LabelEncoder"
      ],
      "execution_count": 64,
      "outputs": []
    },
    {
      "cell_type": "markdown",
      "metadata": {
        "id": "Dmo0wF-vnXzD"
      },
      "source": [
        "#Task 10: Train the ML Model"
      ]
    },
    {
      "cell_type": "code",
      "metadata": {
        "id": "AUVPWfp9nXvl",
        "colab": {
          "base_uri": "https://localhost:8080/",
          "height": 213
        },
        "outputId": "b3f6fb75-6d86-4e70-8905-c70efe12cd89"
      },
      "source": [
        "logmodel = LogisticRegression()\n",
        "logmodel.fit(X_train, y_train)"
      ],
      "execution_count": 65,
      "outputs": [
        {
          "output_type": "stream",
          "name": "stderr",
          "text": [
            "/usr/local/lib/python3.10/dist-packages/sklearn/linear_model/_logistic.py:458: ConvergenceWarning: lbfgs failed to converge (status=1):\n",
            "STOP: TOTAL NO. of ITERATIONS REACHED LIMIT.\n",
            "\n",
            "Increase the number of iterations (max_iter) or scale the data as shown in:\n",
            "    https://scikit-learn.org/stable/modules/preprocessing.html\n",
            "Please also refer to the documentation for alternative solver options:\n",
            "    https://scikit-learn.org/stable/modules/linear_model.html#logistic-regression\n",
            "  n_iter_i = _check_optimize_result(\n"
          ]
        },
        {
          "output_type": "execute_result",
          "data": {
            "text/plain": [
              "LogisticRegression()"
            ],
            "text/html": [
              "<style>#sk-container-id-1 {color: black;background-color: white;}#sk-container-id-1 pre{padding: 0;}#sk-container-id-1 div.sk-toggleable {background-color: white;}#sk-container-id-1 label.sk-toggleable__label {cursor: pointer;display: block;width: 100%;margin-bottom: 0;padding: 0.3em;box-sizing: border-box;text-align: center;}#sk-container-id-1 label.sk-toggleable__label-arrow:before {content: \"▸\";float: left;margin-right: 0.25em;color: #696969;}#sk-container-id-1 label.sk-toggleable__label-arrow:hover:before {color: black;}#sk-container-id-1 div.sk-estimator:hover label.sk-toggleable__label-arrow:before {color: black;}#sk-container-id-1 div.sk-toggleable__content {max-height: 0;max-width: 0;overflow: hidden;text-align: left;background-color: #f0f8ff;}#sk-container-id-1 div.sk-toggleable__content pre {margin: 0.2em;color: black;border-radius: 0.25em;background-color: #f0f8ff;}#sk-container-id-1 input.sk-toggleable__control:checked~div.sk-toggleable__content {max-height: 200px;max-width: 100%;overflow: auto;}#sk-container-id-1 input.sk-toggleable__control:checked~label.sk-toggleable__label-arrow:before {content: \"▾\";}#sk-container-id-1 div.sk-estimator input.sk-toggleable__control:checked~label.sk-toggleable__label {background-color: #d4ebff;}#sk-container-id-1 div.sk-label input.sk-toggleable__control:checked~label.sk-toggleable__label {background-color: #d4ebff;}#sk-container-id-1 input.sk-hidden--visually {border: 0;clip: rect(1px 1px 1px 1px);clip: rect(1px, 1px, 1px, 1px);height: 1px;margin: -1px;overflow: hidden;padding: 0;position: absolute;width: 1px;}#sk-container-id-1 div.sk-estimator {font-family: monospace;background-color: #f0f8ff;border: 1px dotted black;border-radius: 0.25em;box-sizing: border-box;margin-bottom: 0.5em;}#sk-container-id-1 div.sk-estimator:hover {background-color: #d4ebff;}#sk-container-id-1 div.sk-parallel-item::after {content: \"\";width: 100%;border-bottom: 1px solid gray;flex-grow: 1;}#sk-container-id-1 div.sk-label:hover label.sk-toggleable__label {background-color: #d4ebff;}#sk-container-id-1 div.sk-serial::before {content: \"\";position: absolute;border-left: 1px solid gray;box-sizing: border-box;top: 0;bottom: 0;left: 50%;z-index: 0;}#sk-container-id-1 div.sk-serial {display: flex;flex-direction: column;align-items: center;background-color: white;padding-right: 0.2em;padding-left: 0.2em;position: relative;}#sk-container-id-1 div.sk-item {position: relative;z-index: 1;}#sk-container-id-1 div.sk-parallel {display: flex;align-items: stretch;justify-content: center;background-color: white;position: relative;}#sk-container-id-1 div.sk-item::before, #sk-container-id-1 div.sk-parallel-item::before {content: \"\";position: absolute;border-left: 1px solid gray;box-sizing: border-box;top: 0;bottom: 0;left: 50%;z-index: -1;}#sk-container-id-1 div.sk-parallel-item {display: flex;flex-direction: column;z-index: 1;position: relative;background-color: white;}#sk-container-id-1 div.sk-parallel-item:first-child::after {align-self: flex-end;width: 50%;}#sk-container-id-1 div.sk-parallel-item:last-child::after {align-self: flex-start;width: 50%;}#sk-container-id-1 div.sk-parallel-item:only-child::after {width: 0;}#sk-container-id-1 div.sk-dashed-wrapped {border: 1px dashed gray;margin: 0 0.4em 0.5em 0.4em;box-sizing: border-box;padding-bottom: 0.4em;background-color: white;}#sk-container-id-1 div.sk-label label {font-family: monospace;font-weight: bold;display: inline-block;line-height: 1.2em;}#sk-container-id-1 div.sk-label-container {text-align: center;}#sk-container-id-1 div.sk-container {/* jupyter's `normalize.less` sets `[hidden] { display: none; }` but bootstrap.min.css set `[hidden] { display: none !important; }` so we also need the `!important` here to be able to override the default hidden behavior on the sphinx rendered scikit-learn.org. See: https://github.com/scikit-learn/scikit-learn/issues/21755 */display: inline-block !important;position: relative;}#sk-container-id-1 div.sk-text-repr-fallback {display: none;}</style><div id=\"sk-container-id-1\" class=\"sk-top-container\"><div class=\"sk-text-repr-fallback\"><pre>LogisticRegression()</pre><b>In a Jupyter environment, please rerun this cell to show the HTML representation or trust the notebook. <br />On GitHub, the HTML representation is unable to render, please try loading this page with nbviewer.org.</b></div><div class=\"sk-container\" hidden><div class=\"sk-item\"><div class=\"sk-estimator sk-toggleable\"><input class=\"sk-toggleable__control sk-hidden--visually\" id=\"sk-estimator-id-1\" type=\"checkbox\" checked><label for=\"sk-estimator-id-1\" class=\"sk-toggleable__label sk-toggleable__label-arrow\">LogisticRegression</label><div class=\"sk-toggleable__content\"><pre>LogisticRegression()</pre></div></div></div></div></div>"
            ]
          },
          "metadata": {},
          "execution_count": 65
        }
      ]
    },
    {
      "cell_type": "markdown",
      "metadata": {
        "id": "RYSfWcCcnXsb"
      },
      "source": [
        "#Task 11: Test the Model"
      ]
    },
    {
      "cell_type": "code",
      "metadata": {
        "id": "ssX8vUw8nXov"
      },
      "source": [
        "predictions = logmodel.predict(X_test)"
      ],
      "execution_count": 66,
      "outputs": []
    },
    {
      "cell_type": "code",
      "metadata": {
        "id": "2ZDwzmMvnXmA"
      },
      "source": [
        "from sklearn.metrics import classification_report"
      ],
      "execution_count": 67,
      "outputs": []
    },
    {
      "cell_type": "code",
      "metadata": {
        "id": "Wl3OIda8nXi6",
        "colab": {
          "base_uri": "https://localhost:8080/"
        },
        "outputId": "5acc4076-a782-491e-e688-bd15f8e7ec50"
      },
      "source": [
        "print(classification_report(y_test, predictions))"
      ],
      "execution_count": 68,
      "outputs": [
        {
          "output_type": "stream",
          "name": "stdout",
          "text": [
            "              precision    recall  f1-score   support\n",
            "\n",
            "         0.0       0.23      0.71      0.35       316\n",
            "         1.0       0.00      0.00      0.00         3\n",
            "         2.0       0.00      0.00      0.00         1\n",
            "        10.0       0.00      0.00      0.00        18\n",
            "       100.0       0.00      0.00      0.00         4\n",
            "       500.0       0.00      0.00      0.00         3\n",
            "     10000.0       0.00      0.00      0.00         2\n",
            "     11750.0       0.00      0.00      0.00         1\n",
            "     15000.0       0.00      0.00      0.00         1\n",
            "     17480.0       0.00      0.00      0.00         1\n",
            "     20000.0       0.00      0.00      0.00         3\n",
            "     23215.0       0.00      0.00      0.00         1\n",
            "     24000.0       0.00      0.00      0.00         2\n",
            "     25355.0       0.00      0.00      0.00         1\n",
            "     29795.0       0.00      0.00      0.00         1\n",
            "     30000.0       0.00      0.00      0.00         1\n",
            "     35000.0       0.00      0.00      0.00         3\n",
            "     35044.0       0.00      0.00      0.00         1\n",
            "     36000.0       0.00      0.00      0.00         1\n",
            "     40500.0       0.00      0.00      0.00         1\n",
            "     41500.0       0.00      0.00      0.00         1\n",
            "     44875.0       0.00      0.00      0.00         1\n",
            "     50000.0       0.00      0.00      0.00         1\n",
            "     55000.0       0.00      0.00      0.00         1\n",
            "     63000.0       0.00      0.00      0.00         1\n",
            "     65000.0       0.00      0.00      0.00         1\n",
            "     67451.0       0.00      0.00      0.00         1\n",
            "     70000.0       0.00      0.00      0.00         1\n",
            "     71837.0       0.00      0.00      0.00         1\n",
            "     72500.0       0.00      0.00      0.00         1\n",
            "     73000.0       0.00      0.00      0.00         1\n",
            "     74000.0       0.00      0.00      0.00         1\n",
            "     75000.0       0.00      0.00      0.00         1\n",
            "     80000.0       0.00      0.00      0.00         2\n",
            "     81000.0       0.00      0.00      0.00         1\n",
            "     82000.0       0.00      0.00      0.00         1\n",
            "     87346.0       0.00      0.00      0.00         1\n",
            "     90000.0       0.00      0.00      0.00         2\n",
            "     93000.0       0.00      0.00      0.00         1\n",
            "     93288.0       0.00      0.00      0.00         1\n",
            "     95000.0       0.00      0.00      0.00         1\n",
            "     95080.0       0.00      0.00      0.00         1\n",
            "    100000.0       0.00      0.00      0.00         1\n",
            "    108000.0       0.00      0.00      0.00         2\n",
            "    110000.0       0.00      0.00      0.00         2\n",
            "    111300.0       0.00      0.00      0.00         1\n",
            "    115000.0       0.00      0.00      0.00         1\n",
            "    116610.0       0.00      0.00      0.00         1\n",
            "    117420.0       0.00      0.00      0.00         1\n",
            "    118000.0       0.00      0.00      0.00         1\n",
            "    120000.0       0.00      0.00      0.00         3\n",
            "    125000.0       0.00      0.00      0.00         2\n",
            "    125111.0       0.00      0.00      0.00         1\n",
            "    128808.0       0.00      0.00      0.00         1\n",
            "    129000.0       0.00      0.00      0.00         1\n",
            "    129347.0       0.00      0.00      0.00         1\n",
            "    130000.0       0.00      0.00      0.00         3\n",
            "    135000.0       0.00      0.00      0.00         3\n",
            "    136500.0       0.00      0.00      0.00         1\n",
            "    140000.0       0.00      0.00      0.00         2\n",
            "    143000.0       0.00      0.00      0.00         1\n",
            "    145000.0       0.00      0.00      0.00         3\n",
            "    145783.0       0.00      0.00      0.00         1\n",
            "    146500.0       0.00      0.00      0.00         1\n",
            "    150000.0       0.00      0.00      0.00         6\n",
            "    151000.0       0.00      0.00      0.00         1\n",
            "    152000.0       0.00      0.00      0.00         1\n",
            "    153000.0       0.00      0.00      0.00         1\n",
            "    153800.0       0.00      0.00      0.00         1\n",
            "    155000.0       0.00      0.00      0.00         4\n",
            "    156449.0       0.00      0.00      0.00         1\n",
            "    156500.0       0.00      0.00      0.00         1\n",
            "    157000.0       0.00      0.00      0.00         2\n",
            "    159000.0       0.00      0.00      0.00         1\n",
            "    160000.0       0.00      0.00      0.00         5\n",
            "    162500.0       0.00      0.00      0.00         1\n",
            "    163000.0       0.00      0.00      0.00         1\n",
            "    165000.0       0.00      0.00      0.00         2\n",
            "    167000.0       0.00      0.00      0.00         1\n",
            "    168333.0       0.00      0.00      0.00         1\n",
            "    168603.0       0.00      0.00      0.00         1\n",
            "    170000.0       0.00      0.00      0.00         6\n",
            "    175000.0       0.00      0.00      0.00         3\n",
            "    179900.0       0.00      0.00      0.00         1\n",
            "    180000.0       0.00      0.00      0.00         7\n",
            "    182000.0       0.00      0.00      0.00         2\n",
            "    183000.0       0.00      0.00      0.00         1\n",
            "    185000.0       0.00      0.00      0.00         3\n",
            "    187000.0       0.00      0.00      0.00         1\n",
            "    189000.0       0.00      0.00      0.00         1\n",
            "    190000.0       0.00      0.00      0.00         8\n",
            "    192500.0       0.00      0.00      0.00         1\n",
            "    193000.0       0.00      0.00      0.00         1\n",
            "    195000.0       0.00      0.00      0.00         4\n",
            "    196000.0       0.00      0.00      0.00         1\n",
            "    198000.0       0.00      0.00      0.00         2\n",
            "    199000.0       0.00      0.00      0.00         1\n",
            "    200000.0       0.00      0.00      0.00         7\n",
            "    201002.0       0.00      0.00      0.00         1\n",
            "    202500.0       0.00      0.00      0.00         1\n",
            "    204000.0       0.00      0.00      0.00         1\n",
            "    205000.0       0.00      0.00      0.00         4\n",
            "    206500.0       0.00      0.00      0.00         1\n",
            "    207000.0       0.00      0.00      0.00         1\n",
            "    210000.0       0.00      0.00      0.00         5\n",
            "    211114.0       0.00      0.00      0.00         1\n",
            "    211389.0       0.00      0.00      0.00         1\n",
            "    211600.0       0.00      0.00      0.00         1\n",
            "    215000.0       0.00      0.00      0.00         2\n",
            "    216637.0       0.00      0.00      0.00         1\n",
            "    217000.0       0.00      0.00      0.00         1\n",
            "    217500.0       0.00      0.00      0.00         1\n",
            "    218000.0       0.00      0.00      0.00         1\n",
            "    218923.0       0.00      0.00      0.00         1\n",
            "    219000.0       0.00      0.00      0.00         1\n",
            "    220000.0       0.00      0.00      0.00         5\n",
            "    225000.0       0.00      0.00      0.00         6\n",
            "    226000.0       0.00      0.00      0.00         1\n",
            "    226800.0       0.00      0.00      0.00         1\n",
            "    229000.0       0.00      0.00      0.00         1\n",
            "    230000.0       0.00      0.00      0.00         3\n",
            "    231000.0       0.00      0.00      0.00         1\n",
            "    232000.0       0.00      0.00      0.00         1\n",
            "    232750.0       0.00      0.00      0.00         1\n",
            "    233220.0       0.00      0.00      0.00         1\n",
            "    235000.0       0.00      0.00      0.00         4\n",
            "    239000.0       0.00      0.00      0.00         1\n",
            "    239999.0       0.00      0.00      0.00         1\n",
            "    240000.0       0.00      0.00      0.00         8\n",
            "    241000.0       0.00      0.00      0.00         1\n",
            "    242050.0       0.00      0.00      0.00         1\n",
            "    242343.0       0.00      0.00      0.00         1\n",
            "    243000.0       0.00      0.00      0.00         2\n",
            "    245000.0       0.00      0.00      0.00         3\n",
            "    247000.0       0.00      0.00      0.00         1\n",
            "    248000.0       0.00      0.00      0.00         2\n",
            "    249000.0       0.00      0.00      0.00         2\n",
            "    249100.0       0.00      0.00      0.00         1\n",
            "    250000.0       0.00      0.00      0.00         8\n",
            "    252000.0       0.00      0.00      0.00         1\n",
            "    253000.0       0.00      0.00      0.00         1\n",
            "    253500.0       0.00      0.00      0.00         1\n",
            "    254000.0       0.00      0.00      0.00         1\n",
            "    255000.0       0.00      0.00      0.00         2\n",
            "    257400.0       0.00      0.00      0.00         1\n",
            "    258000.0       0.00      0.00      0.00         1\n",
            "    259584.0       0.00      0.00      0.00         1\n",
            "    260000.0       0.00      0.00      0.00         7\n",
            "    261250.0       0.00      0.00      0.00         1\n",
            "    262000.0       0.00      0.00      0.00         1\n",
            "    262500.0       0.00      0.00      0.00         1\n",
            "    264000.0       0.00      0.00      0.00         1\n",
            "    265000.0       0.00      0.00      0.00         3\n",
            "    265161.0       0.00      0.00      0.00         1\n",
            "    266000.0       0.00      0.00      0.00         1\n",
            "    268000.0       0.00      0.00      0.00         1\n",
            "    270000.0       0.00      0.00      0.00         2\n",
            "    271100.0       0.00      0.00      0.00         1\n",
            "    272500.0       0.00      0.00      0.00         1\n",
            "    273061.0       0.00      0.00      0.00         1\n",
            "    275000.0       0.00      0.00      0.00         3\n",
            "    275400.0       0.00      0.00      0.00         1\n",
            "    277000.0       0.00      0.00      0.00         1\n",
            "    277017.0       0.00      0.00      0.00         1\n",
            "    278600.0       0.00      0.00      0.00         1\n",
            "    279000.0       0.00      0.00      0.00         1\n",
            "    280000.0       0.00      0.00      0.00         8\n",
            "    280450.0       0.00      0.00      0.00         1\n",
            "    281000.0       0.00      0.00      0.00         1\n",
            "    281500.0       0.00      0.00      0.00         1\n",
            "    282000.0       0.00      0.00      0.00         1\n",
            "    285000.0       0.00      0.00      0.00         6\n",
            "    287630.0       0.00      0.00      0.00         1\n",
            "    289000.0       0.00      0.00      0.00         1\n",
            "    290000.0       0.00      0.00      0.00         2\n",
            "    291018.0       0.00      0.00      0.00         1\n",
            "    292000.0       0.00      0.00      0.00         1\n",
            "    293000.0       0.00      0.00      0.00         1\n",
            "    294060.0       0.00      0.00      0.00         1\n",
            "    295000.0       0.00      0.00      0.00         5\n",
            "    297609.0       0.00      0.00      0.00         1\n",
            "    298000.0       0.00      0.00      0.00         1\n",
            "    299000.0       0.00      0.00      0.00         1\n",
            "    299900.0       0.00      0.00      0.00         1\n",
            "    300000.0       0.00      0.00      0.00         9\n",
            "    302000.0       0.00      0.00      0.00         1\n",
            "    304200.0       0.00      0.00      0.00         2\n",
            "    305000.0       0.00      0.00      0.00         5\n",
            "    305475.0       0.00      0.00      0.00         1\n",
            "    306000.0       0.00      0.00      0.00         1\n",
            "    306228.0       0.00      0.00      0.00         1\n",
            "    309300.0       0.00      0.00      0.00         1\n",
            "    310000.0       0.00      0.00      0.00         5\n",
            "    315000.0       0.00      0.00      0.00         2\n",
            "    317000.0       0.00      0.00      0.00         2\n",
            "    317222.0       0.00      0.00      0.00         1\n",
            "    317500.0       0.00      0.00      0.00         1\n",
            "    318000.0       0.00      0.00      0.00         1\n",
            "    320000.0       0.00      0.00      0.00         4\n",
            "    324900.0       0.00      0.00      0.00         1\n",
            "    325000.0       0.00      0.00      0.00        10\n",
            "    325500.0       0.00      0.00      0.00         1\n",
            "    328536.0       0.00      0.00      0.00         1\n",
            "    329000.0       0.00      0.00      0.00         1\n",
            "    330000.0       0.00      0.00      0.00         5\n",
            "    331000.0       0.00      0.00      0.00         1\n",
            "    332000.0       0.00      0.00      0.00         1\n",
            "    333000.0       0.00      0.00      0.00         1\n",
            "    334000.0       0.00      0.00      0.00         2\n",
            "    335000.0       0.00      0.00      0.00         5\n",
            "    336000.0       0.00      0.00      0.00         1\n",
            "    337000.0       0.00      0.00      0.00         1\n",
            "    338000.0       0.00      0.00      0.00         1\n",
            "    339500.0       0.00      0.00      0.00         1\n",
            "    340000.0       0.00      0.00      0.00         5\n",
            "    340050.0       0.00      0.00      0.00         1\n",
            "    342000.0       0.00      0.00      0.00         1\n",
            "    342500.0       0.00      0.00      0.00         1\n",
            "    345000.0       0.00      0.00      0.00         4\n",
            "    345450.0       0.00      0.00      0.00         1\n",
            "    347500.0       0.00      0.00      0.00         2\n",
            "    350000.0       0.00      0.00      0.00         8\n",
            "    352000.0       0.00      0.00      0.00         1\n",
            "    353000.0       0.00      0.00      0.00         2\n",
            "    354000.0       0.00      0.00      0.00         1\n",
            "    355000.0       0.00      0.00      0.00         3\n",
            "    356475.0       0.00      0.00      0.00         1\n",
            "    359470.0       0.00      0.00      0.00         1\n",
            "    359970.0       0.00      0.00      0.00         1\n",
            "    360000.0       0.00      0.00      0.00         4\n",
            "    360500.0       0.00      0.00      0.00         1\n",
            "    361000.0       0.00      0.00      0.00         1\n",
            "    364026.0       0.00      0.00      0.00         1\n",
            "    364900.0       0.00      0.00      0.00         1\n",
            "    365000.0       0.00      0.00      0.00         6\n",
            "    369000.0       0.00      0.00      0.00         1\n",
            "    370000.0       0.00      0.00      0.00         1\n",
            "    370110.0       0.00      0.00      0.00         1\n",
            "    372900.0       0.00      0.00      0.00         1\n",
            "    375000.0       0.00      0.00      0.00         9\n",
            "    376724.0       0.00      0.00      0.00         1\n",
            "    377500.0       0.00      0.00      0.00         2\n",
            "    379000.0       0.00      0.00      0.00         1\n",
            "    379888.0       0.00      0.00      0.00         1\n",
            "    380000.0       0.00      0.00      0.00         4\n",
            "    382000.0       0.00      0.00      0.00         1\n",
            "    383000.0       0.00      0.00      0.00         2\n",
            "    385000.0       0.00      0.00      0.00         1\n",
            "    385218.0       0.00      0.00      0.00         1\n",
            "    388500.0       0.00      0.00      0.00         1\n",
            "    389860.0       0.00      0.00      0.00         1\n",
            "    390000.0       0.00      0.00      0.00         8\n",
            "    390390.0       0.00      0.00      0.00         1\n",
            "    392813.0       0.00      0.00      0.00         1\n",
            "    395000.0       0.00      0.00      0.00         2\n",
            "    397000.0       0.00      0.00      0.00         1\n",
            "    399000.0       0.00      0.00      0.00         2\n",
            "    399500.0       0.00      0.00      0.00         1\n",
            "    399800.0       0.00      0.00      0.00         1\n",
            "    399999.0       0.00      0.00      0.00         1\n",
            "    400000.0       0.00      0.00      0.00         8\n",
            "    402800.0       0.00      0.00      0.00         1\n",
            "    404500.0       0.00      0.00      0.00         1\n",
            "    405000.0       0.00      0.00      0.00         5\n",
            "    405600.0       0.00      0.00      0.00         1\n",
            "    407500.0       0.00      0.00      0.00         1\n",
            "    408642.0       0.00      0.00      0.00         1\n",
            "    409000.0       0.00      0.00      0.00         1\n",
            "    410000.0       0.00      0.00      0.00         8\n",
            "    411000.0       0.00      0.00      0.00         2\n",
            "    415000.0       0.00      0.00      0.00         3\n",
            "    415200.0       0.00      0.00      0.00         1\n",
            "    416321.0       0.00      0.00      0.00         1\n",
            "    418000.0       0.00      0.00      0.00         2\n",
            "    419666.0       0.00      0.00      0.00         1\n",
            "    420000.0       0.00      0.00      0.00         5\n",
            "    420810.0       0.00      0.00      0.00         1\n",
            "    421427.0       0.00      0.00      0.00         1\n",
            "    422000.0       0.00      0.00      0.00         1\n",
            "    424000.0       0.00      0.00      0.00         1\n",
            "    425000.0       0.00      0.00      0.00         3\n",
            "    428888.0       0.00      0.00      0.00         1\n",
            "    430000.0       0.00      0.00      0.00         8\n",
            "    430950.0       0.00      0.00      0.00         1\n",
            "    434200.0       0.00      0.00      0.00         1\n",
            "    435000.0       0.00      0.00      0.00         6\n",
            "    436000.0       0.00      0.00      0.00         2\n",
            "    436020.0       0.00      0.00      0.00         1\n",
            "    437500.0       0.00      0.00      0.00         1\n",
            "    438000.0       0.00      0.00      0.00         1\n",
            "    438235.0       0.00      0.00      0.00         1\n",
            "    439000.0       0.00      0.00      0.00         2\n",
            "    440000.0       0.00      0.00      0.00         7\n",
            "    441090.0       0.00      0.00      0.00         2\n",
            "    449000.0       0.00      0.00      0.00         1\n",
            "    450000.0       0.00      0.00      0.00        12\n",
            "    451000.0       0.00      0.00      0.00         1\n",
            "    452359.0       0.00      0.00      0.00         1\n",
            "    455000.0       0.00      0.00      0.00         3\n",
            "    456300.0       0.00      0.00      0.00         1\n",
            "    457000.0       0.00      0.00      0.00         1\n",
            "    457314.0       0.00      0.00      0.00         1\n",
            "    457447.0       0.00      0.00      0.00         1\n",
            "    460000.0       0.00      0.00      0.00         5\n",
            "    461370.0       0.00      0.00      0.00         1\n",
            "    465000.0       0.00      0.00      0.00         6\n",
            "    467000.0       0.00      0.00      0.00         1\n",
            "    468468.0       0.00      0.00      0.00         1\n",
            "    469000.0       0.00      0.00      0.00         1\n",
            "    470000.0       0.00      0.00      0.00         3\n",
            "    475000.0       0.00      0.00      0.00         7\n",
            "    478500.0       0.00      0.00      0.00         1\n",
            "    480000.0       0.00      0.00      0.00         6\n",
            "    485000.0       0.00      0.00      0.00         7\n",
            "    485500.0       0.00      0.00      0.00         1\n",
            "    490000.0       0.00      0.00      0.00         4\n",
            "    492000.0       0.00      0.00      0.00         1\n",
            "    495000.0       0.00      0.00      0.00         1\n",
            "    497000.0       0.00      0.00      0.00         1\n",
            "    499000.0       0.00      0.00      0.00         3\n",
            "    499900.0       0.00      0.00      0.00         1\n",
            "    499988.0       0.00      0.00      0.00         1\n",
            "    500000.0       0.00      0.00      0.00        10\n",
            "    503000.0       0.00      0.00      0.00         1\n",
            "    505000.0       0.00      0.00      0.00         3\n",
            "    509000.0       0.00      0.00      0.00         1\n",
            "    510000.0       0.00      0.00      0.00         2\n",
            "    512000.0       0.00      0.00      0.00         1\n",
            "    515000.0       0.00      0.00      0.00         9\n",
            "    518000.0       0.00      0.00      0.00         1\n",
            "    518289.0       0.00      0.00      0.00         2\n",
            "    520000.0       0.00      0.00      0.00         8\n",
            "    521000.0       0.00      0.00      0.00         1\n",
            "    522000.0       0.00      0.00      0.00         1\n",
            "    524950.0       0.22      0.71      0.33       459\n",
            "    525000.0       0.00      0.00      0.00         8\n",
            "    530000.0       0.00      0.00      0.00         7\n",
            "    533280.0       0.00      0.00      0.00         1\n",
            "    535000.0       0.00      0.00      0.00         8\n",
            "    535521.0       0.00      0.00      0.00         1\n",
            "    540000.0       0.00      0.00      0.00         3\n",
            "    545000.0       0.00      0.00      0.00         6\n",
            "    548500.0       0.00      0.00      0.00         1\n",
            "    549855.0       0.00      0.00      0.00         1\n",
            "    550000.0       0.00      0.00      0.00         9\n",
            "    552000.0       0.00      0.00      0.00         1\n",
            "    555000.0       0.00      0.00      0.00         7\n",
            "    556000.0       0.00      0.00      0.00         1\n",
            "    558000.0       0.00      0.00      0.00         2\n",
            "    559000.0       0.00      0.00      0.00         1\n",
            "    559523.0       0.00      0.00      0.00         1\n",
            "    560000.0       0.00      0.00      0.00         6\n",
            "    560037.0       0.00      0.00      0.00         1\n",
            "    562500.0       0.00      0.00      0.00         2\n",
            "    564400.0       0.00      0.00      0.00         1\n",
            "    565000.0       0.00      0.00      0.00         7\n",
            "    566000.0       0.00      0.00      0.00         2\n",
            "    567000.0       0.00      0.00      0.00         1\n",
            "    570000.0       0.00      0.00      0.00         6\n",
            "    572256.0       0.00      0.00      0.00         1\n",
            "    574879.0       0.00      0.00      0.00         1\n",
            "    575000.0       0.00      0.00      0.00         8\n",
            "    578000.0       0.00      0.00      0.00         1\n",
            "    579000.0       0.00      0.00      0.00         1\n",
            "    580000.0       0.00      0.00      0.00         6\n",
            "    581950.0       0.00      0.00      0.00         1\n",
            "    582475.0       0.00      0.00      0.00         1\n",
            "    583000.0       0.00      0.00      0.00         1\n",
            "    585000.0       0.00      0.00      0.00         3\n",
            "    587000.0       0.00      0.00      0.00         1\n",
            "    587500.0       0.00      0.00      0.00         1\n",
            "    590000.0       0.00      0.00      0.00         7\n",
            "    595000.0       0.00      0.00      0.00         5\n",
            "    595676.0       0.00      0.00      0.00         1\n",
            "    599000.0       0.00      0.00      0.00         2\n",
            "    600000.0       0.00      0.00      0.00        14\n",
            "    603141.0       0.00      0.00      0.00         1\n",
            "    605000.0       0.00      0.00      0.00         3\n",
            "    605500.0       0.00      0.00      0.00         2\n",
            "    605858.0       0.00      0.00      0.00         1\n",
            "    607000.0       0.00      0.00      0.00         1\n",
            "    607250.0       0.00      0.00      0.00         1\n",
            "    608000.0       0.00      0.00      0.00         1\n",
            "    608137.0       0.00      0.00      0.00         1\n",
            "    610000.0       0.00      0.00      0.00         3\n",
            "    613600.0       0.00      0.00      0.00         1\n",
            "    615000.0       0.00      0.00      0.00         4\n",
            "    615825.0       0.00      0.00      0.00         1\n",
            "    616041.0       0.00      0.00      0.00         1\n",
            "    618500.0       0.00      0.00      0.00         1\n",
            "    619043.0       0.00      0.00      0.00         1\n",
            "    620000.0       0.00      0.00      0.00         8\n",
            "    625000.0       0.00      0.00      0.00        10\n",
            "    627000.0       0.00      0.00      0.00         1\n",
            "    627998.0       0.00      0.00      0.00         1\n",
            "    628000.0       0.00      0.00      0.00         1\n",
            "    629000.0       0.00      0.00      0.00         1\n",
            "    630000.0       0.00      0.00      0.00         1\n",
            "    631000.0       0.00      0.00      0.00         1\n",
            "    633000.0       0.00      0.00      0.00         1\n",
            "    635000.0       0.00      0.00      0.00         3\n",
            "    640000.0       0.00      0.00      0.00         6\n",
            "    640500.0       0.00      0.00      0.00         1\n",
            "    647000.0       0.00      0.00      0.00         1\n",
            "    647340.0       0.00      0.00      0.00         1\n",
            "    649000.0       0.00      0.00      0.00         1\n",
            "    650000.0       0.00      0.00      0.00        10\n",
            "    650500.0       0.00      0.00      0.00         1\n",
            "    650661.0       0.00      0.00      0.00         1\n",
            "    652000.0       0.00      0.00      0.00         1\n",
            "    652400.0       0.00      0.00      0.00         1\n",
            "    655000.0       0.00      0.00      0.00         3\n",
            "    659045.0       0.00      0.00      0.00         1\n",
            "    660000.0       0.00      0.00      0.00         3\n",
            "    661000.0       0.00      0.00      0.00         1\n",
            "    663899.0       0.00      0.00      0.00         2\n",
            "    665000.0       0.00      0.00      0.00         1\n",
            "    666953.0       0.00      0.00      0.00         1\n",
            "    668000.0       0.00      0.00      0.00         1\n",
            "    670000.0       0.00      0.00      0.00         6\n",
            "    671539.0       0.00      0.00      0.00         1\n",
            "    672045.0       0.00      0.00      0.00         1\n",
            "    672500.0       0.00      0.00      0.00         1\n",
            "    675000.0       0.00      0.00      0.00         5\n",
            "    678000.0       0.00      0.00      0.00         1\n",
            "    680000.0       0.00      0.00      0.00         3\n",
            "    681000.0       0.00      0.00      0.00         1\n",
            "    682000.0       0.00      0.00      0.00         1\n",
            "    682228.0       0.00      0.00      0.00         1\n",
            "    682500.0       0.00      0.00      0.00         1\n",
            "    684000.0       0.00      0.00      0.00         1\n",
            "    685000.0       0.00      0.00      0.00         2\n",
            "    686600.0       0.00      0.00      0.00         1\n",
            "    688000.0       0.00      0.00      0.00         1\n",
            "    690000.0       0.00      0.00      0.00         3\n",
            "    695000.0       0.00      0.00      0.00         3\n",
            "    697000.0       0.00      0.00      0.00         1\n",
            "    699000.0       0.00      0.00      0.00         1\n",
            "    700000.0       0.00      0.00      0.00        13\n",
            "    700556.0       0.00      0.00      0.00         1\n",
            "    705000.0       0.00      0.00      0.00         1\n",
            "    708435.0       0.00      0.00      0.00         1\n",
            "    710000.0       0.00      0.00      0.00         2\n",
            "    710471.0       0.00      0.00      0.00         1\n",
            "    710738.0       0.00      0.00      0.00         1\n",
            "    712775.0       0.00      0.00      0.00         1\n",
            "    715000.0       0.00      0.00      0.00         2\n",
            "    717000.0       0.00      0.00      0.00         1\n",
            "    720000.0       0.00      0.00      0.00         6\n",
            "    721175.0       0.00      0.00      0.00         1\n",
            "    725000.0       0.00      0.00      0.00         7\n",
            "    727000.0       0.00      0.00      0.00         1\n",
            "    730000.0       0.00      0.00      0.00         4\n",
            "    733000.0       0.00      0.00      0.00         1\n",
            "    735000.0       0.00      0.00      0.00         4\n",
            "    739999.0       0.00      0.00      0.00         1\n",
            "    740000.0       0.00      0.00      0.00         2\n",
            "    742000.0       0.00      0.00      0.00         1\n",
            "    742037.0       0.00      0.00      0.00         1\n",
            "    745000.0       0.00      0.00      0.00         2\n",
            "    746853.0       0.00      0.00      0.00         1\n",
            "    747000.0       0.00      0.00      0.00         1\n",
            "    749000.0       0.00      0.00      0.00         3\n",
            "    750000.0       0.00      0.00      0.00        12\n",
            "    752500.0       0.00      0.00      0.00         1\n",
            "    755000.0       0.00      0.00      0.00         4\n",
            "    755625.0       0.00      0.00      0.00         1\n",
            "    756490.0       0.00      0.00      0.00         1\n",
            "    757500.0       0.00      0.00      0.00         1\n",
            "    759000.0       0.00      0.00      0.00         1\n",
            "    760000.0       0.00      0.00      0.00         5\n",
            "    763687.0       0.00      0.00      0.00         3\n",
            "    765000.0       0.00      0.00      0.00         5\n",
            "    769000.0       0.00      0.00      0.00         1\n",
            "    770000.0       0.00      0.00      0.00         2\n",
            "    771566.0       0.00      0.00      0.00         1\n",
            "    771667.0       0.00      0.00      0.00         1\n",
            "    773870.0       0.00      0.00      0.00         1\n",
            "    775000.0       0.00      0.00      0.00        10\n",
            "    779000.0       0.00      0.00      0.00         1\n",
            "    780000.0       0.00      0.00      0.00         1\n",
            "    782571.0       0.00      0.00      0.00         1\n",
            "    783484.0       0.00      0.00      0.00         1\n",
            "    785000.0       0.00      0.00      0.00         2\n",
            "    785200.0       0.00      0.00      0.00         1\n",
            "    786000.0       0.00      0.00      0.00         1\n",
            "    787500.0       0.00      0.00      0.00         1\n",
            "    790000.0       0.00      0.00      0.00         4\n",
            "    794235.0       0.00      0.00      0.00         1\n",
            "    800000.0       0.00      0.00      0.00        12\n",
            "    803000.0       0.00      0.00      0.00         1\n",
            "    805000.0       0.00      0.00      0.00         1\n",
            "    808000.0       0.00      0.00      0.00         1\n",
            "    810000.0       0.00      0.00      0.00         2\n",
            "    810500.0       0.00      0.00      0.00         1\n",
            "    815000.0       0.00      0.00      0.00         4\n",
            "    817500.0       0.00      0.00      0.00         1\n",
            "    819516.0       0.00      0.00      0.00         1\n",
            "    820000.0       0.00      0.00      0.00         5\n",
            "    825000.0       0.00      0.00      0.00         3\n",
            "    826819.0       0.00      0.00      0.00         1\n",
            "    827500.0       0.00      0.00      0.00         1\n",
            "    829000.0       0.00      0.00      0.00         1\n",
            "    830000.0       0.00      0.00      0.00         1\n",
            "    832500.0       0.00      0.00      0.00         1\n",
            "    835000.0       0.00      0.00      0.00         1\n",
            "    836225.0       0.00      0.00      0.00         1\n",
            "    836563.0       0.00      0.00      0.00         1\n",
            "    838000.0       0.00      0.00      0.00         1\n",
            "    839000.0       0.00      0.00      0.00         1\n",
            "    840000.0       0.00      0.00      0.00         2\n",
            "    842000.0       0.00      0.00      0.00         1\n",
            "    845000.0       0.00      0.00      0.00         1\n",
            "    848000.0       0.00      0.00      0.00         1\n",
            "    849000.0       0.00      0.00      0.00         1\n",
            "    850000.0       0.00      0.00      0.00         7\n",
            "    855000.0       0.00      0.00      0.00         1\n",
            "    856081.0       0.00      0.00      0.00         1\n",
            "    860000.0       0.00      0.00      0.00         3\n",
            "    862500.0       0.00      0.00      0.00         1\n",
            "    862888.0       0.00      0.00      0.00         1\n",
            "    865000.0       0.00      0.00      0.00         1\n",
            "    870000.0       0.00      0.00      0.00         2\n",
            "    875000.0       0.00      0.00      0.00         6\n",
            "    877000.0       0.00      0.00      0.00         1\n",
            "    879000.0       0.00      0.00      0.00         2\n",
            "    880000.0       0.00      0.00      0.00         1\n",
            "    885000.0       0.00      0.00      0.00         1\n",
            "    890000.0       0.00      0.00      0.00         4\n",
            "    890968.0       0.00      0.00      0.00         1\n",
            "    895000.0       0.00      0.00      0.00         3\n",
            "    899000.0       0.00      0.00      0.00         3\n",
            "    899888.0       0.00      0.00      0.00         1\n",
            "    900000.0       0.00      0.00      0.00         8\n",
            "    901151.0       0.00      0.00      0.00         1\n",
            "    902000.0       0.00      0.00      0.00         2\n",
            "    905000.0       0.00      0.00      0.00         2\n",
            "    915000.0       0.00      0.00      0.00         3\n",
            "    925000.0       0.00      0.00      0.00         5\n",
            "    930000.0       0.00      0.00      0.00         2\n",
            "    932500.0       0.00      0.00      0.00         1\n",
            "    934000.0       0.00      0.00      0.00         1\n",
            "    934448.0       0.00      0.00      0.00         1\n",
            "    937500.0       0.00      0.00      0.00         1\n",
            "    940000.0       0.00      0.00      0.00         1\n",
            "    945000.0       0.00      0.00      0.00         1\n",
            "    949000.0       0.00      0.00      0.00         1\n",
            "    950000.0       0.00      0.00      0.00        13\n",
            "    952000.0       0.00      0.00      0.00         1\n",
            "    962246.0       0.00      0.00      0.00         1\n",
            "    965000.0       0.00      0.00      0.00         7\n",
            "    966000.0       0.00      0.00      0.00         1\n",
            "    967337.0       0.00      0.00      0.00         1\n",
            "    967500.0       0.00      0.00      0.00         1\n",
            "    967745.0       0.00      0.00      0.00         1\n",
            "    968000.0       0.00      0.00      0.00         1\n",
            "    970000.0       0.00      0.00      0.00         3\n",
            "    974000.0       0.00      0.00      0.00         1\n",
            "    975000.0       0.00      0.00      0.00         6\n",
            "    977418.0       0.00      0.00      0.00         1\n",
            "    980000.0       0.00      0.00      0.00         5\n",
            "    982000.0       0.00      0.00      0.00         1\n",
            "    985000.0       0.00      0.00      0.00         1\n",
            "    989000.0       0.00      0.00      0.00         1\n",
            "    990000.0       0.00      0.00      0.00         6\n",
            "    993000.0       0.00      0.00      0.00         1\n",
            "    994168.0       0.00      0.00      0.00         1\n",
            "    995000.0       0.00      0.00      0.00         3\n",
            "    995500.0       0.00      0.00      0.00         1\n",
            "    998000.0       0.00      0.00      0.00         3\n",
            "    998500.0       0.00      0.00      0.00         1\n",
            "    999000.0       0.00      0.00      0.00         4\n",
            "    999990.0       0.00      0.00      0.00         2\n",
            "   1000000.0       0.00      0.00      0.00         3\n",
            "   1010000.0       0.00      0.00      0.00         1\n",
            "   1013000.0       0.00      0.00      0.00         1\n",
            "   1017500.0       0.00      0.00      0.00         1\n",
            "   1030000.0       0.00      0.00      0.00         1\n",
            "   1035000.0       0.00      0.00      0.00         1\n",
            "   1040000.0       0.00      0.00      0.00         1\n",
            "   1043000.0       0.00      0.00      0.00         1\n",
            "   1050000.0       0.00      0.00      0.00         2\n",
            "   1060000.0       0.00      0.00      0.00         1\n",
            "   1061500.0       0.00      0.00      0.00         1\n",
            "   1070000.0       0.00      0.00      0.00         2\n",
            "   1083500.0       0.00      0.00      0.00         1\n",
            "   1085500.0       0.00      0.00      0.00         1\n",
            "   1087836.0       0.00      0.00      0.00         1\n",
            "   1090000.0       0.00      0.00      0.00         1\n",
            "   1095400.0       0.00      0.00      0.00         1\n",
            "   1100000.0       0.00      0.00      0.00         5\n",
            "   1119675.0       0.00      0.00      0.00         1\n",
            "   1120000.0       0.00      0.00      0.00         2\n",
            "   1121560.0       0.00      0.00      0.00         1\n",
            "   1125000.0       0.00      0.00      0.00         1\n",
            "   1139500.0       0.00      0.00      0.00         1\n",
            "   1140000.0       0.00      0.00      0.00         1\n",
            "   1140429.0       0.00      0.00      0.00         1\n",
            "   1141763.0       0.00      0.00      0.00         1\n",
            "   1147000.0       0.00      0.00      0.00         1\n",
            "   1150000.0       0.00      0.00      0.00         5\n",
            "   1160000.0       0.00      0.00      0.00         1\n",
            "   1162574.0       0.00      0.00      0.00         1\n",
            "   1168000.0       0.00      0.00      0.00         1\n",
            "   1170000.0       0.00      0.00      0.00         1\n",
            "   1180000.0       0.00      0.00      0.00         1\n",
            "   1190000.0       0.00      0.00      0.00         1\n",
            "   1195000.0       0.00      0.00      0.00         2\n",
            "   1199193.0       0.00      0.00      0.00         1\n",
            "   1200000.0       0.00      0.00      0.00         6\n",
            "   1201000.0       0.00      0.00      0.00         1\n",
            "   1205000.0       0.00      0.00      0.00         1\n",
            "   1210000.0       0.00      0.00      0.00         1\n",
            "   1212500.0       0.00      0.00      0.00         2\n",
            "   1216808.0       0.00      0.00      0.00         1\n",
            "   1220000.0       0.00      0.00      0.00         4\n",
            "   1225000.0       0.00      0.00      0.00         2\n",
            "   1230000.0       0.00      0.00      0.00         1\n",
            "   1236000.0       0.00      0.00      0.00         1\n",
            "   1244557.0       0.00      0.00      0.00         1\n",
            "   1250000.0       0.00      0.00      0.00         8\n",
            "   1255000.0       0.00      0.00      0.00         1\n",
            "   1256250.0       0.00      0.00      0.00         1\n",
            "   1265000.0       0.00      0.00      0.00         2\n",
            "   1270000.0       0.00      0.00      0.00         2\n",
            "   1275000.0       0.00      0.00      0.00         2\n",
            "   1279000.0       0.00      0.00      0.00         1\n",
            "   1280000.0       0.00      0.00      0.00         3\n",
            "   1290888.0       0.00      0.00      0.00         1\n",
            "   1295000.0       0.00      0.00      0.00         1\n",
            "   1300000.0       0.00      0.00      0.00        10\n",
            "   1308451.0       0.00      0.00      0.00         1\n",
            "   1310000.0       0.00      0.00      0.00         1\n",
            "   1312500.0       0.00      0.00      0.00         1\n",
            "   1312750.0       0.00      0.00      0.00         1\n",
            "   1313704.0       0.00      0.00      0.00         1\n",
            "   1323725.0       0.00      0.00      0.00         1\n",
            "   1325000.0       0.00      0.00      0.00         1\n",
            "   1328500.0       0.00      0.00      0.00         1\n",
            "   1330000.0       0.00      0.00      0.00         3\n",
            "   1335000.0       0.00      0.00      0.00         2\n",
            "   1340000.0       0.00      0.00      0.00         1\n",
            "   1344215.0       0.00      0.00      0.00         1\n",
            "   1348000.0       0.00      0.00      0.00         2\n",
            "   1349181.0       0.00      0.00      0.00         1\n",
            "   1350000.0       0.00      0.00      0.00         2\n",
            "   1354272.0       0.00      0.00      0.00         1\n",
            "   1362318.0       0.00      0.00      0.00         1\n",
            "   1365000.0       0.00      0.00      0.00         2\n",
            "   1375000.0       0.00      0.00      0.00         4\n",
            "   1377387.0       0.00      0.00      0.00         1\n",
            "   1380000.0       0.00      0.00      0.00         1\n",
            "   1387500.0       0.00      0.00      0.00         1\n",
            "   1388000.0       0.00      0.00      0.00         1\n",
            "   1395000.0       0.00      0.00      0.00         1\n",
            "   1400000.0       0.00      0.00      0.00         4\n",
            "   1410276.0       0.00      0.00      0.00         1\n",
            "   1415000.0       0.00      0.00      0.00         1\n",
            "   1419700.0       0.00      0.00      0.00         1\n",
            "   1425000.0       0.00      0.00      0.00         6\n",
            "   1425550.0       0.00      0.00      0.00         1\n",
            "   1426500.0       0.00      0.00      0.00         1\n",
            "   1439000.0       0.00      0.00      0.00         1\n",
            "   1440000.0       0.00      0.00      0.00         1\n",
            "   1450000.0       0.00      0.00      0.00         3\n",
            "   1460000.0       0.00      0.00      0.00         1\n",
            "   1465000.0       0.00      0.00      0.00         1\n",
            "   1466280.0       0.00      0.00      0.00         1\n",
            "   1470000.0       0.00      0.00      0.00         2\n",
            "   1475000.0       0.00      0.00      0.00         1\n",
            "   1495000.0       0.00      0.00      0.00         1\n",
            "   1497500.0       0.00      0.00      0.00         1\n",
            "   1500000.0       0.00      0.00      0.00         7\n",
            "   1525000.0       0.00      0.00      0.00         1\n",
            "   1530000.0       0.00      0.00      0.00         1\n",
            "   1550000.0       0.00      0.00      0.00         2\n",
            "   1560000.0       0.00      0.00      0.00         1\n",
            "   1567500.0       0.00      0.00      0.00         1\n",
            "   1570000.0       0.00      0.00      0.00         2\n",
            "   1575465.0       0.00      0.00      0.00         1\n",
            "   1578287.0       0.00      0.00      0.00         1\n",
            "   1579000.0       0.00      0.00      0.00         1\n",
            "   1580000.0       0.00      0.00      0.00         1\n",
            "   1583840.0       0.00      0.00      0.00         1\n",
            "   1594827.0       0.00      0.00      0.00         1\n",
            "   1600000.0       0.00      0.00      0.00         1\n",
            "   1619007.0       0.00      0.00      0.00         1\n",
            "   1620000.0       0.00      0.00      0.00         1\n",
            "   1625000.0       0.00      0.00      0.00         1\n",
            "   1630000.0       0.00      0.00      0.00         1\n",
            "   1632254.0       0.00      0.00      0.00         1\n",
            "   1634000.0       0.00      0.00      0.00         1\n",
            "   1635000.0       0.00      0.00      0.00         1\n",
            "   1650000.0       0.00      0.00      0.00         2\n",
            "   1655000.0       0.00      0.00      0.00         1\n",
            "   1666637.0       0.00      0.00      0.00         1\n",
            "   1675000.0       0.00      0.00      0.00         2\n",
            "   1680102.0       0.00      0.00      0.00         1\n",
            "   1680112.0       0.00      0.00      0.00         1\n",
            "   1695000.0       0.00      0.00      0.00         1\n",
            "   1700000.0       0.00      0.00      0.00         4\n",
            "   1720000.0       0.00      0.00      0.00         1\n",
            "   1725000.0       0.00      0.00      0.00         3\n",
            "   1749879.0       0.00      0.00      0.00         1\n",
            "   1749990.0       0.00      0.00      0.00         1\n",
            "   1750000.0       0.00      0.00      0.00         5\n",
            "   1771744.0       0.00      0.00      0.00         1\n",
            "   1775000.0       0.00      0.00      0.00         1\n",
            "   1780000.0       0.00      0.00      0.00         1\n",
            "   1787500.0       0.00      0.00      0.00         2\n",
            "   1790000.0       0.00      0.00      0.00         1\n",
            "   1800000.0       0.00      0.00      0.00         3\n",
            "   1800500.0       0.00      0.00      0.00         1\n",
            "   1803125.0       0.00      0.00      0.00         1\n",
            "   1820000.0       0.00      0.00      0.00         1\n",
            "   1823000.0       0.00      0.00      0.00         1\n",
            "   1825000.0       0.00      0.00      0.00         2\n",
            "   1832850.0       0.00      0.00      0.00         1\n",
            "   1850000.0       0.00      0.00      0.00         5\n",
            "   1858306.0       0.00      0.00      0.00         1\n",
            "   1860000.0       0.00      0.00      0.00         1\n",
            "   1862000.0       0.00      0.00      0.00         1\n",
            "   1880000.0       0.00      0.00      0.00         1\n",
            "   1900000.0       0.00      0.00      0.00         3\n",
            "   1920000.0       0.00      0.00      0.00         1\n",
            "   1922000.0       0.00      0.00      0.00         1\n",
            "   1925000.0       0.00      0.00      0.00         2\n",
            "   1931719.0       0.00      0.00      0.00         1\n",
            "   1934675.0       0.00      0.00      0.00         1\n",
            "   1950000.0       0.00      0.00      0.00         2\n",
            "   1975000.0       0.00      0.00      0.00         2\n",
            "   1980496.0       0.00      0.00      0.00         1\n",
            "   1995000.0       0.00      0.00      0.00         1\n",
            "   2000000.0       0.00      0.00      0.00         3\n",
            "   2020000.0       0.00      0.00      0.00         1\n",
            "   2050000.0       0.00      0.00      0.00         1\n",
            "   2060000.0       0.00      0.00      0.00         1\n",
            "   2070000.0       0.00      0.00      0.00         1\n",
            "   2085000.0       0.00      0.00      0.00         1\n",
            "   2100000.0       0.00      0.00      0.00         4\n",
            "   2120000.0       0.00      0.00      0.00         1\n",
            "   2150000.0       0.00      0.00      0.00         2\n",
            "   2167000.0       0.00      0.00      0.00         1\n",
            "   2175000.0       0.00      0.00      0.00         1\n",
            "   2200000.0       0.00      0.00      0.00         3\n",
            "   2208536.0       0.00      0.00      0.00         1\n",
            "   2225000.0       0.00      0.00      0.00         1\n",
            "   2300000.0       0.00      0.00      0.00         4\n",
            "   2330000.0       0.00      0.00      0.00         1\n",
            "   2341975.0       0.00      0.00      0.00         1\n",
            "   2350000.0       0.00      0.00      0.00         1\n",
            "   2365784.0       0.00      0.00      0.00         1\n",
            "   2400000.0       0.00      0.00      0.00         1\n",
            "   2425000.0       0.00      0.00      0.00         1\n",
            "   2450000.0       0.00      0.00      0.00         1\n",
            "   2499803.0       0.00      0.00      0.00         1\n",
            "   2500000.0       0.00      0.00      0.00         3\n",
            "   2510000.0       0.00      0.00      0.00         1\n",
            "   2520000.0       0.00      0.00      0.00         1\n",
            "   2550000.0       0.00      0.00      0.00         2\n",
            "   2560888.0       0.00      0.00      0.00         1\n",
            "   2570000.0       0.00      0.00      0.00         1\n",
            "   2575000.0       0.00      0.00      0.00         1\n",
            "   2600000.0       0.00      0.00      0.00         1\n",
            "   2615000.0       0.00      0.00      0.00         1\n",
            "   2627509.0       0.00      0.00      0.00         1\n",
            "   2647450.0       0.00      0.00      0.00         2\n",
            "   2650000.0       0.00      0.00      0.00         2\n",
            "   2660000.0       0.00      0.00      0.00         1\n",
            "   2680000.0       0.00      0.00      0.00         2\n",
            "   2693710.0       0.00      0.00      0.00         1\n",
            "   2750000.0       0.00      0.00      0.00         2\n",
            "   2774731.0       0.00      0.00      0.00         1\n",
            "   2775000.0       0.00      0.00      0.00         1\n",
            "   2825000.0       0.00      0.00      0.00         1\n",
            "   2826250.0       0.00      0.00      0.00         1\n",
            "   2847090.0       0.00      0.00      0.00         1\n",
            "   2850000.0       0.00      0.00      0.00         2\n",
            "   2851100.0       0.00      0.00      0.00         1\n",
            "   2900000.0       0.00      0.00      0.00         1\n",
            "   2902012.0       0.00      0.00      0.00         1\n",
            "   2947833.0       0.00      0.00      0.00         1\n",
            "   2995000.0       0.00      0.00      0.00         1\n",
            "   3000000.0       0.00      0.00      0.00         2\n",
            "   3025000.0       0.00      0.00      0.00         1\n",
            "   3030000.0       0.00      0.00      0.00         1\n",
            "   3040000.0       0.00      0.00      0.00         1\n",
            "   3057375.0       0.00      0.00      0.00         1\n",
            "   3070000.0       0.00      0.00      0.00         1\n",
            "   3100000.0       0.00      0.00      0.00         3\n",
            "   3108662.0       0.00      0.00      0.00         1\n",
            "   3136210.0       0.00      0.00      0.00         1\n",
            "   3175000.0       0.00      0.00      0.00         1\n",
            "   3200000.0       0.00      0.00      0.00         1\n",
            "   3232943.0       0.00      0.00      0.00         1\n",
            "   3245000.0       0.00      0.00      0.00         1\n",
            "   3250000.0       0.00      0.00      0.00         1\n",
            "   3279375.0       0.00      0.00      0.00         1\n",
            "   3280000.0       0.00      0.00      0.00         1\n",
            "   3300000.0       0.00      0.00      0.00         2\n",
            "   3390000.0       0.00      0.00      0.00         1\n",
            "   3400000.0       0.00      0.00      0.00         2\n",
            "   3450000.0       0.00      0.00      0.00         4\n",
            "   3475528.0       0.00      0.00      0.00         1\n",
            "   3498000.0       0.00      0.00      0.00         1\n",
            "   3500000.0       0.00      0.00      0.00         2\n",
            "   3503000.0       0.00      0.00      0.00         1\n",
            "   3600000.0       0.00      0.00      0.00         1\n",
            "   3700000.0       0.00      0.00      0.00         1\n",
            "   3750000.0       0.00      0.00      0.00         2\n",
            "   3770936.0       0.00      0.00      0.00         1\n",
            "   3800000.0       0.00      0.00      0.00         1\n",
            "   3808244.0       0.00      0.00      0.00         1\n",
            "   3848985.0       0.00      0.00      0.00         1\n",
            "   3850000.0       0.00      0.00      0.00         3\n",
            "   4000000.0       0.00      0.00      0.00         1\n",
            "   4024250.0       0.00      0.00      0.00         1\n",
            "   4150000.0       0.00      0.00      0.00         1\n",
            "   4200000.0       0.00      0.00      0.00         1\n",
            "   4215000.0       0.00      0.00      0.00         1\n",
            "   4250000.0       0.00      0.00      0.00         1\n",
            "   4340000.0       0.00      0.00      0.00         1\n",
            "   4350000.0       0.00      0.00      0.00         1\n",
            "   4400000.0       0.00      0.00      0.00         1\n",
            "   4425000.0       0.00      0.00      0.00         1\n",
            "   4500000.0       0.00      0.00      0.00         1\n",
            "   4582125.0       0.00      0.00      0.00         1\n",
            "   4724680.0       0.00      0.00      0.00         1\n",
            "   4900000.0       0.00      0.00      0.00         1\n",
            "   4969940.0       0.00      0.00      0.00         1\n",
            "   5000000.0       0.00      0.00      0.00         1\n",
            "   5070293.0       0.00      0.00      0.00         1\n",
            "   5200000.0       0.00      0.00      0.00         3\n",
            "   5276498.0       0.00      0.00      0.00         1\n",
            "   5400000.0       0.00      0.00      0.00         1\n",
            "   5500000.0       0.00      0.00      0.00         2\n",
            "   5585101.0       0.00      0.00      0.00         1\n",
            "   5700000.0       0.00      0.00      0.00         1\n",
            "   5726700.0       0.00      0.00      0.00         1\n",
            "   5832500.0       0.00      0.00      0.00         1\n",
            "   5850000.0       0.00      0.00      0.00         1\n",
            "   5937880.0       0.00      0.00      0.00         1\n",
            "   5950000.0       0.00      0.00      0.00         2\n",
            "   6000000.0       0.00      0.00      0.00         2\n",
            "   6450000.0       0.00      0.00      0.00         1\n",
            "   6650000.0       0.00      0.00      0.00         1\n",
            "   6800000.0       0.00      0.00      0.00         1\n",
            "   6838414.0       0.00      0.00      0.00         1\n",
            "   6900000.0       0.00      0.00      0.00         1\n",
            "   7150000.0       0.00      0.00      0.00         1\n",
            "   7480000.0       0.00      0.00      0.00         1\n",
            "   7555924.0       0.00      0.00      0.00         1\n",
            "   7900000.0       0.00      0.00      0.00         1\n",
            "   8152109.0       0.00      0.00      0.00         1\n",
            "   8349650.0       0.00      0.00      0.00         1\n",
            "   8538119.0       0.00      0.00      0.00         1\n",
            "   8700000.0       0.00      0.00      0.00         1\n",
            "   8753000.0       0.00      0.00      0.00         1\n",
            "   8800000.0       0.00      0.00      0.00         1\n",
            "   8900000.0       0.00      0.00      0.00         1\n",
            "   9000000.0       0.00      0.00      0.00         1\n",
            "   9001000.0       0.00      0.00      0.00         1\n",
            "   9366308.0       0.00      0.00      0.00         1\n",
            "   9500000.0       0.00      0.00      0.00         1\n",
            "   9950000.0       0.00      0.00      0.00         0\n",
            "  10050000.0       0.00      0.00      0.00         0\n",
            "  10350000.0       0.00      0.00      0.00         1\n",
            "  10500000.0       0.00      0.00      0.00         1\n",
            "  10755774.0       0.00      0.00      0.00         1\n",
            "  11200000.0       0.00      0.00      0.00         1\n",
            "  11500000.0       0.00      0.00      0.00         1\n",
            "  12500000.0       0.00      0.00      0.00         1\n",
            "  13175224.0       0.00      0.00      0.00         1\n",
            "  13500000.0       0.00      0.00      0.00         1\n",
            "  14200000.0       0.00      0.00      0.00         1\n",
            "  14784990.0       0.00      0.00      0.00         1\n",
            "  16466145.0       0.00      0.00      0.00         1\n",
            "  17210250.0       0.00      0.00      0.00         1\n",
            "  18000000.0       0.00      0.00      0.00         1\n",
            "  20185527.0       0.00      0.00      0.00         1\n",
            "  21150000.0       0.00      0.00      0.00         1\n",
            "  26000000.0       0.00      0.00      0.00         1\n",
            "  29870000.0       0.00      0.00      0.00         1\n",
            "  31000000.0       0.00      0.00      0.00         1\n",
            "  33000000.0       0.00      0.00      0.00         1\n",
            "  38250000.0       0.00      0.00      0.00         1\n",
            "  70936348.0       0.00      0.00      0.00         1\n",
            "  78000000.0       0.00      0.00      0.00         1\n",
            "  83000000.0       0.00      0.00      0.00         1\n",
            " 124700000.0       0.00      0.00      0.00         1\n",
            " 138106368.0       0.00      0.00      0.00         0\n",
            "\n",
            "    accuracy                           0.22      2500\n",
            "   macro avg       0.00      0.00      0.00      2500\n",
            "weighted avg       0.07      0.22      0.10      2500\n",
            "\n"
          ]
        },
        {
          "output_type": "stream",
          "name": "stderr",
          "text": [
            "/usr/local/lib/python3.10/dist-packages/sklearn/metrics/_classification.py:1344: UndefinedMetricWarning: Precision and F-score are ill-defined and being set to 0.0 in labels with no predicted samples. Use `zero_division` parameter to control this behavior.\n",
            "  _warn_prf(average, modifier, msg_start, len(result))\n",
            "/usr/local/lib/python3.10/dist-packages/sklearn/metrics/_classification.py:1344: UndefinedMetricWarning: Recall and F-score are ill-defined and being set to 0.0 in labels with no true samples. Use `zero_division` parameter to control this behavior.\n",
            "  _warn_prf(average, modifier, msg_start, len(result))\n",
            "/usr/local/lib/python3.10/dist-packages/sklearn/metrics/_classification.py:1344: UndefinedMetricWarning: Precision and F-score are ill-defined and being set to 0.0 in labels with no predicted samples. Use `zero_division` parameter to control this behavior.\n",
            "  _warn_prf(average, modifier, msg_start, len(result))\n",
            "/usr/local/lib/python3.10/dist-packages/sklearn/metrics/_classification.py:1344: UndefinedMetricWarning: Recall and F-score are ill-defined and being set to 0.0 in labels with no true samples. Use `zero_division` parameter to control this behavior.\n",
            "  _warn_prf(average, modifier, msg_start, len(result))\n",
            "/usr/local/lib/python3.10/dist-packages/sklearn/metrics/_classification.py:1344: UndefinedMetricWarning: Precision and F-score are ill-defined and being set to 0.0 in labels with no predicted samples. Use `zero_division` parameter to control this behavior.\n",
            "  _warn_prf(average, modifier, msg_start, len(result))\n",
            "/usr/local/lib/python3.10/dist-packages/sklearn/metrics/_classification.py:1344: UndefinedMetricWarning: Recall and F-score are ill-defined and being set to 0.0 in labels with no true samples. Use `zero_division` parameter to control this behavior.\n",
            "  _warn_prf(average, modifier, msg_start, len(result))\n"
          ]
        }
      ]
    },
    {
      "cell_type": "code",
      "metadata": {
        "id": "nZ3uIMaFnXfr",
        "colab": {
          "base_uri": "https://localhost:8080/"
        },
        "outputId": "652eba29-0413-4ede-99e9-59a3d20b0e3b"
      },
      "source": [
        "print(logmodel.score(X_test,y_test))\n",
        "pp = logmodel.predict(X_test)\n",
        "print(\"SALE PRICE\", sum(pp!=0))\n",
        "print(\"NOT SALE PRICE\", sum(pp==0))"
      ],
      "execution_count": 69,
      "outputs": [
        {
          "output_type": "stream",
          "name": "stdout",
          "text": [
            "0.2196\n",
            "SALE PRICE 1524\n",
            "NOT SALE PRICE 976\n"
          ]
        }
      ]
    },
    {
      "cell_type": "code",
      "source": [
        "# Visualize training set\n",
        "plt.scatter(X_train, Y_train, color = \"red\", label=\"Living Area\")\n",
        "plt.title(\"REAL ESTATE Prices in NYC\")\n",
        "plt.plot(X_train, regressor.predict(X_train), color = \"blue\", label=\"Price\")\n",
        "plt.xlabel(\"Area (sq-ft)\")\n",
        "plt.ylabel(\"Price (USD)\")\n",
        "plt.legend()\n",
        "plt.show()"
      ],
      "metadata": {
        "colab": {
          "base_uri": "https://localhost:8080/",
          "height": 211
        },
        "id": "YtmFH3lMJXWI",
        "outputId": "a7db077f-682b-4bb1-933d-8f933f062737"
      },
      "execution_count": 71,
      "outputs": [
        {
          "output_type": "error",
          "ename": "NameError",
          "evalue": "name 'Y_train' is not defined",
          "traceback": [
            "\u001b[0;31m---------------------------------------------------------------------------\u001b[0m",
            "\u001b[0;31mNameError\u001b[0m                                 Traceback (most recent call last)",
            "\u001b[0;32m<ipython-input-71-0e3e6fb7aedc>\u001b[0m in \u001b[0;36m<cell line: 2>\u001b[0;34m()\u001b[0m\n\u001b[1;32m      1\u001b[0m \u001b[0;31m# Visualize training set\u001b[0m\u001b[0;34m\u001b[0m\u001b[0;34m\u001b[0m\u001b[0m\n\u001b[0;32m----> 2\u001b[0;31m \u001b[0mplt\u001b[0m\u001b[0;34m.\u001b[0m\u001b[0mscatter\u001b[0m\u001b[0;34m(\u001b[0m\u001b[0mX_train\u001b[0m\u001b[0;34m,\u001b[0m \u001b[0mY_train\u001b[0m\u001b[0;34m,\u001b[0m \u001b[0mcolor\u001b[0m \u001b[0;34m=\u001b[0m \u001b[0;34m\"red\"\u001b[0m\u001b[0;34m,\u001b[0m \u001b[0mlabel\u001b[0m\u001b[0;34m=\u001b[0m\u001b[0;34m\"Living Area\"\u001b[0m\u001b[0;34m)\u001b[0m\u001b[0;34m\u001b[0m\u001b[0;34m\u001b[0m\u001b[0m\n\u001b[0m\u001b[1;32m      3\u001b[0m \u001b[0mplt\u001b[0m\u001b[0;34m.\u001b[0m\u001b[0mtitle\u001b[0m\u001b[0;34m(\u001b[0m\u001b[0;34m\"REAL ESTATE Prices in NYC\"\u001b[0m\u001b[0;34m)\u001b[0m\u001b[0;34m\u001b[0m\u001b[0;34m\u001b[0m\u001b[0m\n\u001b[1;32m      4\u001b[0m \u001b[0mplt\u001b[0m\u001b[0;34m.\u001b[0m\u001b[0mplot\u001b[0m\u001b[0;34m(\u001b[0m\u001b[0mX_train\u001b[0m\u001b[0;34m,\u001b[0m \u001b[0mregressor\u001b[0m\u001b[0;34m.\u001b[0m\u001b[0mpredict\u001b[0m\u001b[0;34m(\u001b[0m\u001b[0mX_train\u001b[0m\u001b[0;34m)\u001b[0m\u001b[0;34m,\u001b[0m \u001b[0mcolor\u001b[0m \u001b[0;34m=\u001b[0m \u001b[0;34m\"blue\"\u001b[0m\u001b[0;34m,\u001b[0m \u001b[0mlabel\u001b[0m\u001b[0;34m=\u001b[0m\u001b[0;34m\"Price\"\u001b[0m\u001b[0;34m)\u001b[0m\u001b[0;34m\u001b[0m\u001b[0;34m\u001b[0m\u001b[0m\n\u001b[1;32m      5\u001b[0m \u001b[0mplt\u001b[0m\u001b[0;34m.\u001b[0m\u001b[0mxlabel\u001b[0m\u001b[0;34m(\u001b[0m\u001b[0;34m\"Area (sq-ft)\"\u001b[0m\u001b[0;34m)\u001b[0m\u001b[0;34m\u001b[0m\u001b[0;34m\u001b[0m\u001b[0m\n",
            "\u001b[0;31mNameError\u001b[0m: name 'Y_train' is not defined"
          ]
        }
      ]
    },
    {
      "cell_type": "markdown",
      "source": [
        "### Making Predictions"
      ],
      "metadata": {
        "id": "9Jrv4QmoI8uj"
      }
    },
    {
      "cell_type": "code",
      "metadata": {
        "id": "ufa3Ch6inXcK",
        "colab": {
          "base_uri": "https://localhost:8080/",
          "height": 141
        },
        "outputId": "a5f3ddfa-917c-4289-87d0-057b0c39a1e7"
      },
      "source": [
        "y_pred = regressor.predict(X_test)"
      ],
      "execution_count": 70,
      "outputs": [
        {
          "output_type": "error",
          "ename": "NameError",
          "evalue": "name 'regressor' is not defined",
          "traceback": [
            "\u001b[0;31m---------------------------------------------------------------------------\u001b[0m",
            "\u001b[0;31mNameError\u001b[0m                                 Traceback (most recent call last)",
            "\u001b[0;32m<ipython-input-70-29d4074f386a>\u001b[0m in \u001b[0;36m<cell line: 1>\u001b[0;34m()\u001b[0m\n\u001b[0;32m----> 1\u001b[0;31m \u001b[0my_pred\u001b[0m \u001b[0;34m=\u001b[0m \u001b[0mregressor\u001b[0m\u001b[0;34m.\u001b[0m\u001b[0mpredict\u001b[0m\u001b[0;34m(\u001b[0m\u001b[0mX_test\u001b[0m\u001b[0;34m)\u001b[0m\u001b[0;34m\u001b[0m\u001b[0;34m\u001b[0m\u001b[0m\n\u001b[0m",
            "\u001b[0;31mNameError\u001b[0m: name 'regressor' is not defined"
          ]
        }
      ]
    }
  ]
}